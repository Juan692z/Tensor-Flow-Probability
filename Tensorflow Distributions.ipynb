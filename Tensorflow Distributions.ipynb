{
 "cells": [
  {
   "cell_type": "code",
   "execution_count": 1,
   "metadata": {},
   "outputs": [
    {
     "name": "stdout",
     "output_type": "stream",
     "text": [
      "TF version: 2.1.0\n",
      "TFP version: 0.9.0\n"
     ]
    }
   ],
   "source": [
    "import tensorflow as tf\n",
    "import tensorflow_probability as tfp\n",
    "tfd = tfp.distributions\n",
    "\n",
    "print(\"TF version:\", tf.__version__)\n",
    "print(\"TFP version:\", tfp.__version__)"
   ]
  },
  {
   "cell_type": "code",
   "execution_count": null,
   "metadata": {},
   "outputs": [],
   "source": []
  },
  {
   "cell_type": "code",
   "execution_count": 2,
   "metadata": {},
   "outputs": [],
   "source": [
    "# Additional imports and setting fixed random seed to have reproducibility\n",
    "\n",
    "import matplotlib.pyplot as plt\n",
    "import numpy as np\n",
    "tf.random.set_seed(123)"
   ]
  },
  {
   "cell_type": "markdown",
   "metadata": {},
   "source": [
    "# Tensorflow Distributions"
   ]
  },
  {
   "cell_type": "markdown",
   "metadata": {},
   "source": [
    "## Coding Tutorials\n",
    "#### 1. [Univariate Distributions](#univariate_distributions)\n",
    "#### 2. [Multivariate Distributions](#multivariate_distributions)\n",
    "#### 3. [The Independent Distribution](#the_independent_distribution)\n",
    "#### 4. [Sampling and log probs](#sampling_and_log_probs)\n",
    "#### 5. [Trainable Distributions](#trainable_distributions)"
   ]
  },
  {
   "cell_type": "markdown",
   "metadata": {},
   "source": [
    "***\n",
    "## Univariate distributions\n",
    "<a id='univariate_distributions'></a>"
   ]
  },
  {
   "cell_type": "code",
   "execution_count": 3,
   "metadata": {},
   "outputs": [
    {
     "data": {
      "text/plain": [
       "<tfp.distributions.Normal 'Normal' batch_shape=[] event_shape=[] dtype=float32>"
      ]
     },
     "execution_count": 3,
     "metadata": {},
     "output_type": "execute_result"
    }
   ],
   "source": [
    "# Create a normal distribution from Tensorflow Distributions\n",
    "\n",
    "normal =tfd.Normal(loc=0, scale=1)\n",
    "normal\n"
   ]
  },
  {
   "cell_type": "code",
   "execution_count": 4,
   "metadata": {},
   "outputs": [
    {
     "data": {
      "text/plain": [
       "<tf.Tensor: shape=(), dtype=float32, numpy=-0.8980837>"
      ]
     },
     "execution_count": 4,
     "metadata": {},
     "output_type": "execute_result"
    }
   ],
   "source": [
    "# Sample from the chosen distribution...\n",
    "\n",
    "normal.sample()"
   ]
  },
  {
   "cell_type": "code",
   "execution_count": 5,
   "metadata": {},
   "outputs": [
    {
     "data": {
      "text/plain": [
       "<tf.Tensor: shape=(10,), dtype=float32, numpy=\n",
       "array([ 0.33875433,  0.3449861 , -0.6605785 , -0.2854994 ,  0.43852386,\n",
       "        0.8288566 , -0.53591555, -0.5353483 , -1.0324248 , -2.942705  ],\n",
       "      dtype=float32)>"
      ]
     },
     "execution_count": 5,
     "metadata": {},
     "output_type": "execute_result"
    }
   ],
   "source": [
    "# ... or sample multiple times\n",
    "\n",
    "normal.sample(10)"
   ]
  },
  {
   "cell_type": "code",
   "execution_count": 6,
   "metadata": {},
   "outputs": [
    {
     "data": {
      "text/plain": [
       "<tf.Tensor: shape=(), dtype=float32, numpy=0.3989423>"
      ]
     },
     "execution_count": 6,
     "metadata": {},
     "output_type": "execute_result"
    }
   ],
   "source": [
    "# Obtain value of probability's density\n",
    "normal.prob(0)\n"
   ]
  },
  {
   "cell_type": "code",
   "execution_count": 7,
   "metadata": {},
   "outputs": [
    {
     "data": {
      "text/plain": [
       "<tf.Tensor: shape=(), dtype=float32, numpy=-0.9189385>"
      ]
     },
     "execution_count": 7,
     "metadata": {},
     "output_type": "execute_result"
    }
   ],
   "source": [
    "# Obtain value of logprobability\n",
    "normal.log_prob(0)"
   ]
  },
  {
   "cell_type": "code",
   "execution_count": 9,
   "metadata": {},
   "outputs": [
    {
     "data": {
      "text/plain": [
       "-0.9189385"
      ]
     },
     "execution_count": 9,
     "metadata": {},
     "output_type": "execute_result"
    }
   ],
   "source": [
    "# Verify that this really is the log of the probability\n",
    "\n",
    "np.log(normal.prob(0))"
   ]
  },
  {
   "cell_type": "code",
   "execution_count": 12,
   "metadata": {},
   "outputs": [
    {
     "data": {
      "image/png": "[encoded data removed]",
      "text/plain": [
       "<Figure size 432x288 with 1 Axes>"
      ]
     },
     "metadata": {
      "needs_background": "light"
     },
     "output_type": "display_data"
    }
   ],
   "source": [
    "# Plot a histogram, approximating the density\n",
    "\n",
    "plt.hist(normal.sample(10000), bins=100, density=True)\n",
    "plt.show()"
   ]
  },
  {
   "cell_type": "code",
   "execution_count": 17,
   "metadata": {},
   "outputs": [],
   "source": [
    "# Sample as before\n",
    "\n",
    "exponential = tfd.Exponential(rate=10)"
   ]
  },
  {
   "cell_type": "code",
   "execution_count": 18,
   "metadata": {},
   "outputs": [
    {
     "data": {
      "image/png": "[encoded data removed]",
      "text/plain": [
       "<Figure size 432x288 with 1 Axes>"
      ]
     },
     "metadata": {
      "needs_background": "light"
     },
     "output_type": "display_data"
    }
   ],
   "source": [
    "plt.hist(exponential.sample(10000), bins=100, density=True)\n",
    "plt.show()"
   ]
  },
  {
   "cell_type": "code",
   "execution_count": 19,
   "metadata": {},
   "outputs": [
    {
     "data": {
      "text/plain": [
       "<tf.Tensor: shape=(100,), dtype=float32, numpy=\n",
       "array([0.03058991, 0.00841671, 0.2679549 , 0.0349224 , 0.11781244,\n",
       "       0.09230281, 0.04209883, 0.04781852, 0.08755166, 0.05476085,\n",
       "       0.01028554, 0.02141422, 0.15409374, 0.02368937, 0.04684361,\n",
       "       0.05464927, 0.08695881, 0.0386216 , 0.03168642, 0.0924175 ,\n",
       "       0.05524601, 0.00280907, 0.27328297, 0.08948273, 0.09764763,\n",
       "       0.07537623, 0.04940648, 0.12737295, 0.0740461 , 0.13579676,\n",
       "       0.11542512, 0.00398753, 0.07094545, 0.00829057, 0.12919514,\n",
       "       0.1026427 , 0.01987591, 0.2032657 , 0.26060143, 0.01971081,\n",
       "       0.09850049, 0.1034234 , 0.00864253, 0.04081377, 0.06148052,\n",
       "       0.06676458, 0.1689843 , 0.31056446, 0.02771705, 0.02761791,\n",
       "       0.18508783, 0.01106835, 0.01633544, 0.07764414, 0.01858779,\n",
       "       0.01188366, 0.10781036, 0.12682423, 0.0150034 , 0.09703642,\n",
       "       0.00130514, 0.0112772 , 0.09432988, 0.05943121, 0.16545038,\n",
       "       0.10802162, 0.0173584 , 0.03533159, 0.0167997 , 0.0181494 ,\n",
       "       0.17342955, 0.03638481, 0.03045799, 0.06351168, 0.11215929,\n",
       "       0.24402165, 0.10050566, 0.00845256, 0.04005568, 0.06468217,\n",
       "       0.26031297, 0.05494239, 0.0655864 , 0.02772416, 0.01799154,\n",
       "       0.06386428, 0.13116735, 0.19178024, 0.03167477, 0.15421382,\n",
       "       0.01869122, 0.10756743, 0.10634132, 0.12846404, 0.07615669,\n",
       "       0.0721745 , 0.08597783, 0.11929299, 0.02006721, 0.38284388],\n",
       "      dtype=float32)>"
      ]
     },
     "execution_count": 19,
     "metadata": {},
     "output_type": "execute_result"
    }
   ],
   "source": [
    "exponential.sample(100)"
   ]
  },
  {
   "cell_type": "code",
   "execution_count": 23,
   "metadata": {},
   "outputs": [
    {
     "data": {
      "text/plain": [
       "<tf.Tensor: shape=(20,), dtype=int32, numpy=\n",
       "array([1, 0, 0, 1, 1, 1, 1, 1, 1, 0, 1, 1, 1, 1, 0, 0, 1, 0, 0, 1],\n",
       "      dtype=int32)>"
      ]
     },
     "execution_count": 23,
     "metadata": {},
     "output_type": "execute_result"
    }
   ],
   "source": [
    "# Create a Bernoulli distribution (discrete)\n",
    "bernoulli = tfd.Bernoulli(probs=0.8)\n",
    "bernoulli.sample(20)"
   ]
  },
  {
   "cell_type": "markdown",
   "metadata": {},
   "source": [
    "#### A word of caution on discrete distributions"
   ]
  },
  {
   "cell_type": "code",
   "execution_count": 25,
   "metadata": {},
   "outputs": [
    {
     "name": "stdout",
     "output_type": "stream",
     "text": [
      "prob result 0.19999998807907104 for k = 0 \n",
      "prob result 0.3999999761581421 for k = 0.5 \n",
      "prob result 0.800000011920929 for k = 1 \n",
      "prob result 0.04999999701976776 for k = -1 \n"
     ]
    }
   ],
   "source": [
    "# Calculate Bernoulli prob and see that 0.5 and -1 do not give the correct probability!\n",
    "\n",
    "for k in [0,0.5,1,-1]:\n",
    "    print('prob result {} for k = {} '.format(bernoulli.prob(k), k))"
   ]
  },
  {
   "cell_type": "code",
   "execution_count": 26,
   "metadata": {},
   "outputs": [],
   "source": [
    "# Replicate the scores to see what is occurring under the hood\n",
    "\n",
    "def my_bernoulli(p_success, k):\n",
    "    return np.power(p_success,k)*np.power((1-p_success),(1-k))"
   ]
  },
  {
   "cell_type": "code",
   "execution_count": 30,
   "metadata": {},
   "outputs": [
    {
     "name": "stdout",
     "output_type": "stream",
     "text": [
      "prob result 0.19999999999999996 for k = 0 \n",
      "prob result 0.3999999999999999 for k = 0.5 \n",
      "prob result 0.8 for k = 1 \n",
      "prob result 0.049999999999999975 for k = -1 \n"
     ]
    }
   ],
   "source": [
    "# Evaluate it as before\n",
    "\n",
    "for k in [0,0.5,1,-1]:\n",
    "    print('prob result {} for k = {} '.format(my_bernoulli(p_success=0.8, k=k), k))"
   ]
  },
  {
   "cell_type": "markdown",
   "metadata": {},
   "source": [
    "#### Work with batch distributions"
   ]
  },
  {
   "cell_type": "code",
   "execution_count": 31,
   "metadata": {},
   "outputs": [
    {
     "data": {
      "text/plain": [
       "<tfp.distributions.Bernoulli 'Bernoulli' batch_shape=[5] event_shape=[] dtype=int32>"
      ]
     },
     "execution_count": 31,
     "metadata": {},
     "output_type": "execute_result"
    }
   ],
   "source": [
    "# Create a batched Bernoulli distribution\n",
    "\n",
    "bernoulli_batch = tfd.Bernoulli(probs=[0.1, 0.25, 0.5, 0.75, 0.9])\n",
    "bernoulli_batch"
   ]
  },
  {
   "cell_type": "code",
   "execution_count": 33,
   "metadata": {},
   "outputs": [
    {
     "data": {
      "text/plain": [
       "<tf.Tensor: shape=(5, 5), dtype=int32, numpy=\n",
       "array([[0, 0, 1, 1, 0],\n",
       "       [0, 0, 0, 1, 1],\n",
       "       [0, 1, 0, 1, 1],\n",
       "       [0, 0, 0, 1, 1],\n",
       "       [0, 0, 1, 1, 1]], dtype=int32)>"
      ]
     },
     "execution_count": 33,
     "metadata": {},
     "output_type": "execute_result"
    }
   ],
   "source": [
    "# Sample from it, noting the shape\n",
    "bernoulli_batch.sample(5)\n"
   ]
  },
  {
   "cell_type": "code",
   "execution_count": 34,
   "metadata": {},
   "outputs": [
    {
     "data": {
      "text/plain": [
       "<tfp.distributions.Bernoulli 'Bernoulli' batch_shape=[1, 3, 2] event_shape=[] dtype=int32>"
      ]
     },
     "execution_count": 34,
     "metadata": {},
     "output_type": "execute_result"
    }
   ],
   "source": [
    "# Use a batch shape with higher rank\n",
    "\n",
    "probs = [[[0.5, 0.5], \n",
    "          [0.8, 0.3], \n",
    "          [0.25, 0.75]]]\n",
    "bernoulli_batch_2D = tfd.Bernoulli(probs=probs)\n",
    "bernoulli_batch_2D"
   ]
  },
  {
   "cell_type": "code",
   "execution_count": 35,
   "metadata": {},
   "outputs": [
    {
     "data": {
      "text/plain": [
       "<tf.Tensor: shape=(5, 1, 3, 2), dtype=int32, numpy=\n",
       "array([[[[1, 0],\n",
       "         [1, 0],\n",
       "         [0, 0]]],\n",
       "\n",
       "\n",
       "       [[[0, 1],\n",
       "         [1, 0],\n",
       "         [1, 1]]],\n",
       "\n",
       "\n",
       "       [[[1, 1],\n",
       "         [0, 1],\n",
       "         [0, 1]]],\n",
       "\n",
       "\n",
       "       [[[0, 0],\n",
       "         [1, 0],\n",
       "         [0, 1]]],\n",
       "\n",
       "\n",
       "       [[[1, 1],\n",
       "         [1, 1],\n",
       "         [1, 1]]]], dtype=int32)>"
      ]
     },
     "execution_count": 35,
     "metadata": {},
     "output_type": "execute_result"
    }
   ],
   "source": [
    "# Sample from this batch of distributions\n",
    "\n",
    "bernoulli_batch_2D.sample(5)"
   ]
  },
  {
   "cell_type": "code",
   "execution_count": 36,
   "metadata": {},
   "outputs": [
    {
     "data": {
      "text/plain": [
       "<tf.Tensor: shape=(1, 3, 2), dtype=float32, numpy=\n",
       "array([[[0.5       , 0.5       ],\n",
       "        [0.19999999, 0.7       ],\n",
       "        [0.25      , 0.75      ]]], dtype=float32)>"
      ]
     },
     "execution_count": 36,
     "metadata": {},
     "output_type": "execute_result"
    }
   ],
   "source": [
    "# Determine probabilities from this batch distribution\n",
    "\n",
    "bernoulli_batch_2D.prob([[[1, 0], \n",
    "                         [0, 0], \n",
    "                         [1, 1]]])"
   ]
  },
  {
   "cell_type": "markdown",
   "metadata": {},
   "source": [
    "***\n",
    "<a id='multivariate_distributions'></a>\n",
    "## Multivariate Distributions\n"
   ]
  },
  {
   "cell_type": "markdown",
   "metadata": {},
   "source": [
    "#### Basic multivariate distributions"
   ]
  },
  {
   "cell_type": "code",
   "execution_count": 9,
   "metadata": {},
   "outputs": [
    {
     "data": {
      "text/plain": [
       "<tfp.distributions.MultivariateNormalDiag 'MultivariateNormalDiag' batch_shape=[] event_shape=[2] dtype=float32>"
      ]
     },
     "execution_count": 9,
     "metadata": {},
     "output_type": "execute_result"
    }
   ],
   "source": [
    "# Define 2D multivariate Gaussian with diagonal covariance matrix\n",
    "\n",
    "normal_diag = tfd.MultivariateNormalDiag(loc=[10,5], scale_diag=[3,2])\n",
    "normal_diag"
   ]
  },
  {
   "cell_type": "code",
   "execution_count": 10,
   "metadata": {},
   "outputs": [
    {
     "data": {
      "text/plain": [
       "<tf.Tensor: shape=(10, 2), dtype=float32, numpy=\n",
       "array([[11.016263  ,  5.6899724 ],\n",
       "       [ 8.018265  ,  4.4290013 ],\n",
       "       [11.315572  ,  6.657713  ],\n",
       "       [ 8.392254  ,  3.9293034 ],\n",
       "       [ 6.9027257 , -0.88540983],\n",
       "       [10.689847  ,  3.9075913 ],\n",
       "       [ 9.107812  ,  5.033137  ],\n",
       "       [10.4778595 ,  4.1207085 ],\n",
       "       [13.733004  ,  3.3227122 ],\n",
       "       [ 8.735951  ,  5.1460423 ]], dtype=float32)>"
      ]
     },
     "execution_count": 10,
     "metadata": {},
     "output_type": "execute_result"
    }
   ],
   "source": [
    "# Sample from it\n",
    "\n",
    "normal_diag.sample(10)"
   ]
  },
  {
   "cell_type": "code",
   "execution_count": 11,
   "metadata": {},
   "outputs": [
    {
     "data": {
      "image/png": "[encoded data removed]",
      "text/plain": [
       "<Figure size 432x288 with 1 Axes>"
      ]
     },
     "metadata": {
      "needs_background": "light"
     },
     "output_type": "display_data"
    }
   ],
   "source": [
    "# Make a plot\n",
    "\n",
    "plt_sample = normal_diag.sample(10000)\n",
    "plt.scatter(plt_sample[:, 0], plt_sample[:, 1], marker='.', alpha=0.05)\n",
    "plt.axis('equal')\n",
    "plt.show()"
   ]
  },
  {
   "cell_type": "markdown",
   "metadata": {},
   "source": [
    "#### Batches of multivariate distributions"
   ]
  },
  {
   "cell_type": "code",
   "execution_count": 12,
   "metadata": {},
   "outputs": [
    {
     "data": {
      "text/plain": [
       "<tfp.distributions.MultivariateNormalDiag 'MultivariateNormalDiag' batch_shape=[3] event_shape=[2] dtype=float32>"
      ]
     },
     "execution_count": 12,
     "metadata": {},
     "output_type": "execute_result"
    }
   ],
   "source": [
    "# Create three \"batches\" of multivariate normals\n",
    "normal_diag_batch = tfd.MultivariateNormalDiag(loc=[[0,0], [0,0], [0,0]], \n",
    "                                              scale_diag= [[1,2],[2,1],[2,2]])\n",
    "normal_diag_batch\n"
   ]
  },
  {
   "cell_type": "code",
   "execution_count": 15,
   "metadata": {},
   "outputs": [
    {
     "data": {
      "text/plain": [
       "<tf.Tensor: shape=(5, 3, 2), dtype=float32, numpy=\n",
       "array([[[-0.25055045, -0.16129418],\n",
       "        [ 1.3925455 ,  1.601835  ],\n",
       "        [ 3.3800185 ,  0.8765621 ]],\n",
       "\n",
       "       [[-0.02178756, -1.6163409 ],\n",
       "        [ 0.6375263 ,  0.7157107 ],\n",
       "        [ 2.8891592 , -0.30178973]],\n",
       "\n",
       "       [[-1.0427645 , -2.2349977 ],\n",
       "        [ 2.1859207 , -0.39272586],\n",
       "        [-1.1063732 ,  1.9198587 ]],\n",
       "\n",
       "       [[-1.836093  ,  2.9774365 ],\n",
       "        [ 3.6215873 ,  1.8437709 ],\n",
       "        [-0.6654536 ,  2.954134  ]],\n",
       "\n",
       "       [[-0.8985954 ,  1.9368321 ],\n",
       "        [ 0.73187786, -1.8755535 ],\n",
       "        [-1.4251704 ,  3.1459255 ]]], dtype=float32)>"
      ]
     },
     "execution_count": 15,
     "metadata": {},
     "output_type": "execute_result"
    }
   ],
   "source": [
    "# Sample from it\n",
    "\n",
    "samples = normal_diag_batch.sample(5)\n",
    "samples"
   ]
  },
  {
   "cell_type": "code",
   "execution_count": 14,
   "metadata": {},
   "outputs": [
    {
     "data": {
      "text/plain": [
       "<tf.Tensor: shape=(5, 3), dtype=float32, numpy=\n",
       "array([[-3.395185 , -3.7944124, -3.8533134],\n",
       "       [-6.8059015, -4.124921 , -3.6853929],\n",
       "       [-2.863271 , -3.1451125, -3.5278926],\n",
       "       [-2.8283005, -3.5068982, -4.133902 ],\n",
       "       [-2.8535068, -3.9524767, -3.2377036]], dtype=float32)>"
      ]
     },
     "execution_count": 14,
     "metadata": {},
     "output_type": "execute_result"
    }
   ],
   "source": [
    "# Compute log probs\n",
    "normal_diag_batch.log_prob(samples)\n"
   ]
  },
  {
   "cell_type": "code",
   "execution_count": 16,
   "metadata": {},
   "outputs": [
    {
     "data": {
      "text/plain": [
       "TensorShape([10000, 3, 2])"
      ]
     },
     "execution_count": 16,
     "metadata": {},
     "output_type": "execute_result"
    }
   ],
   "source": [
    "# Create a sample for a plot -- notice the shape\n",
    "\n",
    "plt_sample_batch = normal_diag_batch.sample(10000)\n",
    "plt_sample_batch.shape"
   ]
  },
  {
   "cell_type": "code",
   "execution_count": 17,
   "metadata": {},
   "outputs": [
    {
     "data": {
      "image/png": "[encoded data removed]",
      "text/plain": [
       "<Figure size 720x216 with 3 Axes>"
      ]
     },
     "metadata": {
      "needs_background": "light"
     },
     "output_type": "display_data"
    }
   ],
   "source": [
    "# Plot samples from the batched multivariate Gaussian\n",
    "\n",
    "fig, axs = (plt.subplots(1, 3, sharex=True, sharey=True, figsize=(10, 3)))\n",
    "titles = ['cov_diag=[1, 2]','cov_diag=[2, 1]', 'cov_diag=[2, 2]']\n",
    "\n",
    "for i, (ax, title) in enumerate(zip(axs,titles)):\n",
    "    samples = plt_sample_batch[:,i,:] #take the ith batch [samples x event_shape]\n",
    "    ax.scatter(samples[:, 0], samples[:, 1], marker='.', alpha=0.05)\n",
    "    ax.set_title(title)\n",
    "plt.show()"
   ]
  },
  {
   "cell_type": "markdown",
   "metadata": {},
   "source": [
    "\n",
    "\n",
    "***\n",
    "<a id='the_independent_distribution'></a>\n",
    "## The Independent Distribution"
   ]
  },
  {
   "cell_type": "code",
   "execution_count": 4,
   "metadata": {},
   "outputs": [],
   "source": [
    "# Start by defining a batch of two univariate Gaussians, then\n",
    "# combine them into a bivariate Gaussian with independent components\n",
    "\n",
    "locs = [-1., 1]\n",
    "scales = [0.5, 1.]\n",
    "batch_of_normals = tfd.Normal(loc = locs, scale = scales )"
   ]
  },
  {
   "cell_type": "code",
   "execution_count": 5,
   "metadata": {},
   "outputs": [
    {
     "data": {
      "image/png": "[encoded data removed]",
      "text/plain": [
       "<Figure size 432x288 with 1 Axes>"
      ]
     },
     "metadata": {
      "needs_background": "light"
     },
     "output_type": "display_data"
    }
   ],
   "source": [
    "# Univariate density functions\n",
    "\n",
    "import seaborn as sns\n",
    "\n",
    "t = np.linspace(-4, 4, 10000)\n",
    "densities = batch_of_normals.prob(np.repeat(t[:, np.newaxis], 2, axis=1)) # each column is a vector of densities for one distn\n",
    "\n",
    "sns.lineplot(t, densities[:, 0], label='loc={}, scale={}'.format(locs[0], scales[0]))\n",
    "sns.lineplot(t, densities[:, 1], label='loc={}, scale={}'.format(locs[1], scales[1]))\n",
    "plt.ylabel('Probability density')\n",
    "plt.xlabel('Value')\n",
    "plt.legend()\n",
    "plt.show()"
   ]
  },
  {
   "cell_type": "code",
   "execution_count": 6,
   "metadata": {},
   "outputs": [
    {
     "data": {
      "text/plain": [
       "<tfp.distributions.Normal 'Normal' batch_shape=[2] event_shape=[] dtype=float32>"
      ]
     },
     "execution_count": 6,
     "metadata": {},
     "output_type": "execute_result"
    }
   ],
   "source": [
    "# Check their batch_shape and event_shape\n",
    "\n",
    "batch_of_normals"
   ]
  },
  {
   "cell_type": "code",
   "execution_count": 22,
   "metadata": {},
   "outputs": [],
   "source": [
    "# Use Independent to convert the batch shape to the event shape\n",
    "\n",
    "bivariate_normal_from_Independent  = tfd.Independent(batch_of_normals,\n",
    "                                                   reinterpreted_batch_ndims=1)"
   ]
  },
  {
   "cell_type": "code",
   "execution_count": 23,
   "metadata": {},
   "outputs": [
    {
     "data": {
      "text/plain": [
       "<tfp.distributions.Independent 'IndependentNormal' batch_shape=[] event_shape=[2] dtype=float32>"
      ]
     },
     "execution_count": 23,
     "metadata": {},
     "output_type": "execute_result"
    }
   ],
   "source": [
    "# Note that dimension from batch_shape has shifted to event_shape\n",
    "\n",
    "bivariate_normal_from_Independent"
   ]
  },
  {
   "cell_type": "code",
   "execution_count": 24,
   "metadata": {},
   "outputs": [
    {
     "data": {
      "text/plain": [
       "<seaborn.axisgrid.JointGrid at 0x736a080385f8>"
      ]
     },
     "execution_count": 24,
     "metadata": {},
     "output_type": "execute_result"
    },
    {
     "data": {
      "image/png": "[encoded data removed]",
      "text/plain": [
       "<Figure size 432x432 with 3 Axes>"
      ]
     },
     "metadata": {
      "needs_background": "light"
     },
     "output_type": "display_data"
    }
   ],
   "source": [
    "# Create a plot showing joint density contours and marginal density functions\n",
    "\n",
    "samples = bivariate_normal_from_Independent.sample(10000)\n",
    "x1 = samples[:, 0]\n",
    "x2 = samples[:, 1]\n",
    "sns.jointplot(x1, x2, kind=\"kde\", space=0, color='b', xlim=[-4, 4], ylim=[-4, 4])"
   ]
  },
  {
   "cell_type": "code",
   "execution_count": 30,
   "metadata": {},
   "outputs": [],
   "source": [
    "# Use MultivariateNormalDiag to create the equivalent distribution\n",
    "# Note that diagonal covariance matrix => no correlation => independence (for the multivariate normal distribution)\n",
    "\n",
    "bivariate_normal_from_Multivariate = tfd.MultivariateNormalDiag(loc=locs, scale_diag=scales)"
   ]
  },
  {
   "cell_type": "code",
   "execution_count": 31,
   "metadata": {},
   "outputs": [
    {
     "data": {
      "text/plain": [
       "<seaborn.axisgrid.JointGrid at 0x7369cc16fb00>"
      ]
     },
     "execution_count": 31,
     "metadata": {},
     "output_type": "execute_result"
    },
    {
     "data": {
      "image/png": "[encoded data removed]",
      "text/plain": [
       "<Figure size 432x432 with 3 Axes>"
      ]
     },
     "metadata": {
      "needs_background": "light"
     },
     "output_type": "display_data"
    }
   ],
   "source": [
    "# Plot the joint density function of bivariate_normal_from_Independent\n",
    "# Refer back to bivariate_normal_from_Independent to show that the plot is the same\n",
    "# Summarise how Independent has been used\n",
    "\n",
    "samples = bivariate_normal_from_Multivariate.sample(10000)\n",
    "x1 = samples[:, 0]\n",
    "x2 = samples[:, 1]\n",
    "sns.jointplot(x1, x2, kind=\"kde\", space=0, color='b', xlim=[-4, 4], ylim=[-4, 4])"
   ]
  },
  {
   "cell_type": "markdown",
   "metadata": {},
   "source": [
    "#### Shifting batch dimensions to event dimensions using \n",
    "`reinterpreted_batch_ndims`"
   ]
  },
  {
   "cell_type": "code",
   "execution_count": 33,
   "metadata": {},
   "outputs": [],
   "source": [
    "# Demonstrate use of reinterpreted_batch_ndims\n",
    "# By default all batch dims except the first are transferred to event dims\n",
    "\n",
    "loc_grid = [[-100., -100.],\n",
    "            [100., 100.],\n",
    "            [0., 0.]]\n",
    "scale_grid = [[1., 10.],\n",
    "              [1., 10.],\n",
    "              [1., 1.]]\n",
    "\n",
    "normals_batch_3by2_event_1 = tfd.Normal(loc=loc_grid, scale=scale_grid)"
   ]
  },
  {
   "cell_type": "code",
   "execution_count": 34,
   "metadata": {},
   "outputs": [
    {
     "data": {
      "text/plain": [
       "<tfp.distributions.Normal 'Normal' batch_shape=[3, 2] event_shape=[] dtype=float32>"
      ]
     },
     "execution_count": 34,
     "metadata": {},
     "output_type": "execute_result"
    }
   ],
   "source": [
    "# Highlight batch_shape\n",
    "normals_batch_3by2_event_1"
   ]
  },
  {
   "cell_type": "code",
   "execution_count": 35,
   "metadata": {},
   "outputs": [
    {
     "data": {
      "text/plain": [
       "<tfp.distributions.Independent 'IndependentNormal' batch_shape=[3] event_shape=[2] dtype=float32>"
      ]
     },
     "execution_count": 35,
     "metadata": {},
     "output_type": "execute_result"
    }
   ],
   "source": [
    "# We now have a batch of 3 bivariate normal distributions,\n",
    "# each parametrised by a column of our original parameter grid\n",
    "\n",
    "normals_batch_3by2_event_2 = tfd.Independent(normals_batch_3by2_event_1)\n",
    "normals_batch_3by2_event_2"
   ]
  },
  {
   "cell_type": "code",
   "execution_count": 39,
   "metadata": {},
   "outputs": [
    {
     "data": {
      "text/plain": [
       "<tf.Tensor: shape=(3,), dtype=float32, numpy=array([-4.1146406e+03, -4.1404624e+00, -2.8378770e+00], dtype=float32)>"
      ]
     },
     "execution_count": 39,
     "metadata": {},
     "output_type": "execute_result"
    }
   ],
   "source": [
    "# Evaluate log_prob\n",
    "normals_batch_3by2_event_2.log_prob(value = [[-10.,10.],\n",
    "                                            [100.,100.],\n",
    "                                            [1.,-1.]])\n"
   ]
  },
  {
   "cell_type": "code",
   "execution_count": 45,
   "metadata": {},
   "outputs": [],
   "source": [
    "# Can reinterpret _all_ batch dimensions as event dimensions\n",
    "\n",
    "normals_batch_1_event3by2 = tfd.Independent(normals_batch_3by2_event_1,\n",
    "                                           reinterpreted_batch_ndims=2)"
   ]
  },
  {
   "cell_type": "code",
   "execution_count": 46,
   "metadata": {},
   "outputs": [
    {
     "data": {
      "text/plain": [
       "<tf.Tensor: shape=(), dtype=float32, numpy=-4121.619>"
      ]
     },
     "execution_count": 46,
     "metadata": {},
     "output_type": "execute_result"
    }
   ],
   "source": [
    "# Take log_probs \n",
    "\n",
    "normals_batch_1_event3by2.log_prob(value = [[-10.,10.],\n",
    "                                            [100.,100.],\n",
    "                                            [1.,-1.]])"
   ]
  },
  {
   "cell_type": "markdown",
   "metadata": {},
   "source": [
    "#### Using `Independent` to build a Naive Bayes classifier"
   ]
  },
  {
   "cell_type": "markdown",
   "metadata": {},
   "source": [
    "#### Introduction to `newsgroups` data set"
   ]
  },
  {
   "cell_type": "markdown",
   "metadata": {},
   "source": [
    "In this tutorial, just load the dataset, fetch train/test splits, probably choose a subset of the data.\n",
    "\n",
    "Construct the class conditional feature distribution (with Independent, using the Naive Bayes assumption) and sample from it.\n",
    "\n",
    "We can just use the ML estimates for parameters, in later tutorials we will learn them."
   ]
  },
  {
   "cell_type": "code",
   "execution_count": 47,
   "metadata": {},
   "outputs": [],
   "source": [
    "# Convenience function for retrieving the 20 newsgroups data set\n",
    "\n",
    "# Usenet was a forerunner to modern internet forums\n",
    "# Users could post and read articles\n",
    "# Newsgroup corresponded to a topic\n",
    "# Example topics in this data set: IBM computer hardware, baseball\n",
    "# Our objective is to use an article's contents to predict its newsgroup,\n",
    "# a 20-class classification problem.\n",
    "\n",
    "# 18000 newsgroups, posts on 20 topics\n",
    "from sklearn.datasets import fetch_20newsgroups\n",
    "from sklearn.feature_extraction.text import CountVectorizer\n"
   ]
  },
  {
   "cell_type": "code",
   "execution_count": 48,
   "metadata": {},
   "outputs": [],
   "source": [
    "# Get the train data\n",
    "\n",
    "newsgroups_data = fetch_20newsgroups(data_home='20_Newsgroup_Data', subset='train')"
   ]
  },
  {
   "cell_type": "code",
   "execution_count": 49,
   "metadata": {},
   "outputs": [
    {
     "name": "stdout",
     "output_type": "stream",
     "text": [
      ".. _20newsgroups_dataset:\n",
      "\n",
      "The 20 newsgroups text dataset\n",
      "------------------------------\n",
      "\n",
      "The 20 newsgroups dataset comprises around 18000 newsgroups posts on\n",
      "20 topics split in two subsets: one for training (or development)\n",
      "and the other one for testing (or for performance evaluation). The split\n",
      "between the train and test set is based upon a messages posted before\n",
      "and after a specific date.\n",
      "\n",
      "This module contains two loaders. The first one,\n",
      ":func:`sklearn.datasets.fetch_20newsgroups`,\n",
      "returns a list of the raw texts that can be fed to text feature\n",
      "extractors such as :class:`sklearn.feature_extraction.text.CountVectorizer`\n",
      "with custom parameters so as to extract feature vectors.\n",
      "The second one, :func:`sklearn.datasets.fetch_20newsgroups_vectorized`,\n",
      "returns ready-to-use features, i.e., it is not necessary to use a feature\n",
      "extractor.\n",
      "\n",
      "**Data Set Characteristics:**\n",
      "\n",
      "    =================   ==========\n",
      "    Classes                     20\n",
      "    Samples total            18846\n",
      "    Dimensionality               1\n",
      "    Features                  text\n",
      "    =================   ==========\n",
      "\n",
      "Usage\n",
      "~~~~~\n",
      "\n",
      "The :func:`sklearn.datasets.fetch_20newsgroups` function is a data\n",
      "fetching / caching functions that downloads the data archive from\n",
      "the original `20 newsgroups website`_, extracts the archive contents\n",
      "in the ``~/scikit_learn_data/20news_home`` folder and calls the\n",
      ":func:`sklearn.datasets.load_files` on either the training or\n",
      "testing set folder, or both of them::\n",
      "\n",
      "  >>> from sklearn.datasets import fetch_20newsgroups\n",
      "  >>> newsgroups_train = fetch_20newsgroups(subset='train')\n",
      "\n",
      "  >>> from pprint import pprint\n",
      "  >>> pprint(list(newsgroups_train.target_names))\n",
      "  ['alt.atheism',\n",
      "   'comp.graphics',\n",
      "   'comp.os.ms-windows.misc',\n",
      "   'comp.sys.ibm.pc.hardware',\n",
      "   'comp.sys.mac.hardware',\n",
      "   'comp.windows.x',\n",
      "   'misc.forsale',\n",
      "   'rec.autos',\n",
      "   'rec.motorcycles',\n",
      "   'rec.sport.baseball',\n",
      "   'rec.sport.hockey',\n",
      "   'sci.crypt',\n",
      "   'sci.electronics',\n",
      "   'sci.med',\n",
      "   'sci.space',\n",
      "   'soc.religion.christian',\n",
      "   'talk.politics.guns',\n",
      "   'talk.politics.mideast',\n",
      "   'talk.politics.misc',\n",
      "   'talk.religion.misc']\n",
      "\n",
      "The real data lies in the ``filenames`` and ``target`` attributes. The target\n",
      "attribute is the integer index of the category::\n",
      "\n",
      "  >>> newsgroups_train.filenames.shape\n",
      "  (11314,)\n",
      "  >>> newsgroups_train.target.shape\n",
      "  (11314,)\n",
      "  >>> newsgroups_train.target[:10]\n",
      "  array([ 7,  4,  4,  1, 14, 16, 13,  3,  2,  4])\n",
      "\n",
      "It is possible to load only a sub-selection of the categories by passing the\n",
      "list of the categories to load to the\n",
      ":func:`sklearn.datasets.fetch_20newsgroups` function::\n",
      "\n",
      "  >>> cats = ['alt.atheism', 'sci.space']\n",
      "  >>> newsgroups_train = fetch_20newsgroups(subset='train', categories=cats)\n",
      "\n",
      "  >>> list(newsgroups_train.target_names)\n",
      "  ['alt.atheism', 'sci.space']\n",
      "  >>> newsgroups_train.filenames.shape\n",
      "  (1073,)\n",
      "  >>> newsgroups_train.target.shape\n",
      "  (1073,)\n",
      "  >>> newsgroups_train.target[:10]\n",
      "  array([0, 1, 1, 1, 0, 1, 1, 0, 0, 0])\n",
      "\n",
      "Converting text to vectors\n",
      "~~~~~~~~~~~~~~~~~~~~~~~~~~\n",
      "\n",
      "In order to feed predictive or clustering models with the text data,\n",
      "one first need to turn the text into vectors of numerical values suitable\n",
      "for statistical analysis. This can be achieved with the utilities of the\n",
      "``sklearn.feature_extraction.text`` as demonstrated in the following\n",
      "example that extract `TF-IDF`_ vectors of unigram tokens\n",
      "from a subset of 20news::\n",
      "\n",
      "  >>> from sklearn.feature_extraction.text import TfidfVectorizer\n",
      "  >>> categories = ['alt.atheism', 'talk.religion.misc',\n",
      "  ...               'comp.graphics', 'sci.space']\n",
      "  >>> newsgroups_train = fetch_20newsgroups(subset='train',\n",
      "  ...                                       categories=categories)\n",
      "  >>> vectorizer = TfidfVectorizer()\n",
      "  >>> vectors = vectorizer.fit_transform(newsgroups_train.data)\n",
      "  >>> vectors.shape\n",
      "  (2034, 34118)\n",
      "\n",
      "The extracted TF-IDF vectors are very sparse, with an average of 159 non-zero\n",
      "components by sample in a more than 30000-dimensional space\n",
      "(less than .5% non-zero features)::\n",
      "\n",
      "  >>> vectors.nnz / float(vectors.shape[0])       # doctest: +ELLIPSIS\n",
      "  159.01327...\n",
      "\n",
      ":func:`sklearn.datasets.fetch_20newsgroups_vectorized` is a function which \n",
      "returns ready-to-use token counts features instead of file names.\n",
      "\n",
      ".. _`20 newsgroups website`: http://people.csail.mit.edu/jrennie/20Newsgroups/\n",
      ".. _`TF-IDF`: https://en.wikipedia.org/wiki/Tf-idf\n",
      "\n",
      "\n",
      "Filtering text for more realistic training\n",
      "~~~~~~~~~~~~~~~~~~~~~~~~~~~~~~~~~~~~~~~~~~\n",
      "\n",
      "It is easy for a classifier to overfit on particular things that appear in the\n",
      "20 Newsgroups data, such as newsgroup headers. Many classifiers achieve very\n",
      "high F-scores, but their results would not generalize to other documents that\n",
      "aren't from this window of time.\n",
      "\n",
      "For example, let's look at the results of a multinomial Naive Bayes classifier,\n",
      "which is fast to train and achieves a decent F-score::\n",
      "\n",
      "  >>> from sklearn.naive_bayes import MultinomialNB\n",
      "  >>> from sklearn import metrics\n",
      "  >>> newsgroups_test = fetch_20newsgroups(subset='test',\n",
      "  ...                                      categories=categories)\n",
      "  >>> vectors_test = vectorizer.transform(newsgroups_test.data)\n",
      "  >>> clf = MultinomialNB(alpha=.01)\n",
      "  >>> clf.fit(vectors, newsgroups_train.target)\n",
      "  MultinomialNB(alpha=0.01, class_prior=None, fit_prior=True)\n",
      "\n",
      "  >>> pred = clf.predict(vectors_test)\n",
      "  >>> metrics.f1_score(newsgroups_test.target, pred, average='macro')  # doctest: +ELLIPSIS\n",
      "  0.88213...\n",
      "\n",
      "(The example :ref:`sphx_glr_auto_examples_text_plot_document_classification_20newsgroups.py` shuffles\n",
      "the training and test data, instead of segmenting by time, and in that case\n",
      "multinomial Naive Bayes gets a much higher F-score of 0.88. Are you suspicious\n",
      "yet of what's going on inside this classifier?)\n",
      "\n",
      "Let's take a look at what the most informative features are:\n",
      "\n",
      "  >>> import numpy as np\n",
      "  >>> def show_top10(classifier, vectorizer, categories):\n",
      "  ...     feature_names = np.asarray(vectorizer.get_feature_names())\n",
      "  ...     for i, category in enumerate(categories):\n",
      "  ...         top10 = np.argsort(classifier.coef_[i])[-10:]\n",
      "  ...         print(\"%s: %s\" % (category, \" \".join(feature_names[top10])))\n",
      "  ...\n",
      "  >>> show_top10(clf, vectorizer, newsgroups_train.target_names)\n",
      "  alt.atheism: edu it and in you that is of to the\n",
      "  comp.graphics: edu in graphics it is for and of to the\n",
      "  sci.space: edu it that is in and space to of the\n",
      "  talk.religion.misc: not it you in is that and to of the\n",
      "\n",
      "\n",
      "You can now see many things that these features have overfit to:\n",
      "\n",
      "- Almost every group is distinguished by whether headers such as\n",
      "  ``NNTP-Posting-Host:`` and ``Distribution:`` appear more or less often.\n",
      "- Another significant feature involves whether the sender is affiliated with\n",
      "  a university, as indicated either by their headers or their signature.\n",
      "- The word \"article\" is a significant feature, based on how often people quote\n",
      "  previous posts like this: \"In article [article ID], [name] <[e-mail address]>\n",
      "  wrote:\"\n",
      "- Other features match the names and e-mail addresses of particular people who\n",
      "  were posting at the time.\n",
      "\n",
      "With such an abundance of clues that distinguish newsgroups, the classifiers\n",
      "barely have to identify topics from text at all, and they all perform at the\n",
      "same high level.\n",
      "\n",
      "For this reason, the functions that load 20 Newsgroups data provide a\n",
      "parameter called **remove**, telling it what kinds of information to strip out\n",
      "of each file. **remove** should be a tuple containing any subset of\n",
      "``('headers', 'footers', 'quotes')``, telling it to remove headers, signature\n",
      "blocks, and quotation blocks respectively.\n",
      "\n",
      "  >>> newsgroups_test = fetch_20newsgroups(subset='test',\n",
      "  ...                                      remove=('headers', 'footers', 'quotes'),\n",
      "  ...                                      categories=categories)\n",
      "  >>> vectors_test = vectorizer.transform(newsgroups_test.data)\n",
      "  >>> pred = clf.predict(vectors_test)\n",
      "  >>> metrics.f1_score(pred, newsgroups_test.target, average='macro')  # doctest: +ELLIPSIS\n",
      "  0.77310...\n",
      "\n",
      "This classifier lost over a lot of its F-score, just because we removed\n",
      "metadata that has little to do with topic classification.\n",
      "It loses even more if we also strip this metadata from the training data:\n",
      "\n",
      "  >>> newsgroups_train = fetch_20newsgroups(subset='train',\n",
      "  ...                                       remove=('headers', 'footers', 'quotes'),\n",
      "  ...                                       categories=categories)\n",
      "  >>> vectors = vectorizer.fit_transform(newsgroups_train.data)\n",
      "  >>> clf = MultinomialNB(alpha=.01)\n",
      "  >>> clf.fit(vectors, newsgroups_train.target)\n",
      "  MultinomialNB(alpha=0.01, class_prior=None, fit_prior=True)\n",
      "\n",
      "  >>> vectors_test = vectorizer.transform(newsgroups_test.data)\n",
      "  >>> pred = clf.predict(vectors_test)\n",
      "  >>> metrics.f1_score(newsgroups_test.target, pred, average='macro')  # doctest: +ELLIPSIS\n",
      "  0.76995...\n",
      "\n",
      "Some other classifiers cope better with this harder version of the task. Try\n",
      "running :ref:`sphx_glr_auto_examples_model_selection_grid_search_text_feature_extraction.py` with and without\n",
      "the ``--filter`` option to compare the results.\n",
      "\n",
      ".. topic:: Recommendation\n",
      "\n",
      "  When evaluating text classifiers on the 20 Newsgroups data, you\n",
      "  should strip newsgroup-related metadata. In scikit-learn, you can do this by\n",
      "  setting ``remove=('headers', 'footers', 'quotes')``. The F-score will be\n",
      "  lower because it is more realistic.\n",
      "\n",
      ".. topic:: Examples\n",
      "\n",
      "   * :ref:`sphx_glr_auto_examples_model_selection_grid_search_text_feature_extraction.py`\n",
      "\n",
      "   * :ref:`sphx_glr_auto_examples_text_plot_document_classification_20newsgroups.py`\n",
      "\n"
     ]
    }
   ],
   "source": [
    "# More information about the data set\n",
    "\n",
    "print(newsgroups_data['DESCR'])"
   ]
  },
  {
   "cell_type": "code",
   "execution_count": 51,
   "metadata": {},
   "outputs": [
    {
     "name": "stdout",
     "output_type": "stream",
     "text": [
      "From: lerxst@wam.umd.edu (where's my thing)\n",
      "Subject: WHAT car is this!?\n",
      "Nntp-Posting-Host: rac3.wam.umd.edu\n",
      "Organization: University of Maryland, College Park\n",
      "Lines: 15\n",
      "\n",
      " I was wondering if anyone out there could enlighten me on this car I saw\n",
      "the other day. It was a 2-door sports car, looked to be from the late 60s/\n",
      "early 70s. It was called a Bricklin. The doors were really small. In addition,\n",
      "the front bumper was separate from the rest of the body. This is \n",
      "all I know. If anyone can tellme a model name, engine specs, years\n",
      "of production, where this car is made, history, or whatever info you\n",
      "have on this funky looking car, please e-mail.\n",
      "\n",
      "Thanks,\n",
      "- IL\n",
      "   ---- brought to you by your neighborhood Lerxst ----\n",
      "\n",
      "\n",
      "\n",
      "\n",
      "\n"
     ]
    }
   ],
   "source": [
    "# Example article\n",
    "print(newsgroups_data['data'][0])\n"
   ]
  },
  {
   "cell_type": "code",
   "execution_count": 52,
   "metadata": {},
   "outputs": [
    {
     "data": {
      "text/plain": [
       "7"
      ]
     },
     "execution_count": 52,
     "metadata": {},
     "output_type": "execute_result"
    }
   ],
   "source": [
    "# Associated label\n",
    "\n",
    "newsgroups_data['target'][0]"
   ]
  },
  {
   "cell_type": "code",
   "execution_count": 53,
   "metadata": {},
   "outputs": [
    {
     "data": {
      "text/plain": [
       "'rec.autos'"
      ]
     },
     "execution_count": 53,
     "metadata": {},
     "output_type": "execute_result"
    }
   ],
   "source": [
    "# Name of label\n",
    "newsgroups_data['target_names'][7]\n"
   ]
  },
  {
   "cell_type": "code",
   "execution_count": 54,
   "metadata": {},
   "outputs": [],
   "source": [
    "# Preprocessing boilerplate\n",
    "\n",
    "n_documents = len(newsgroups_data['data'])\n",
    "\n",
    "count_vectorizer = CountVectorizer(input='content', binary=True,\n",
    "                                   max_df=0.25, min_df=1.01/n_documents) # ignore common words, words that appear once\n",
    "binary_bag_of_words = count_vectorizer.fit_transform(newsgroups_data['data']) # input is a list of strings\n"
   ]
  },
  {
   "cell_type": "code",
   "execution_count": 55,
   "metadata": {},
   "outputs": [
    {
     "data": {
      "text/plain": [
       "(11314, 56365)"
      ]
     },
     "execution_count": 55,
     "metadata": {},
     "output_type": "execute_result"
    }
   ],
   "source": [
    "# Check shape\n",
    "\n",
    "binary_bag_of_words.shape"
   ]
  },
  {
   "cell_type": "code",
   "execution_count": 57,
   "metadata": {},
   "outputs": [
    {
     "data": {
      "text/plain": [
       "[array(['lerxst', 'wam', 'umd', 'where', 'thing', 'car', 'rac3',\n",
       "        'maryland', 'college', 'park', '15', 'wondering', 'anyone',\n",
       "        'could', 'enlighten', 'saw', 'day', 'door', 'sports', 'looked',\n",
       "        'late', '60s', 'early', '70s', 'called', 'bricklin', 'doors',\n",
       "        'were', 'really', 'small', 'addition', 'front', 'bumper',\n",
       "        'separate', 'rest', 'body', 'tellme', 'model', 'name', 'engine',\n",
       "        'specs', 'years', 'production', 'made', 'history', 'whatever',\n",
       "        'info', 'funky', 'looking', 'please', 'mail', 'thanks', 'il',\n",
       "        'brought', 'neighborhood'], dtype='<U80')]"
      ]
     },
     "execution_count": 57,
     "metadata": {},
     "output_type": "execute_result"
    }
   ],
   "source": [
    "# Check that the fit has been successful\n",
    "count_vectorizer.inverse_transform(binary_bag_of_words[0,:])\n"
   ]
  },
  {
   "cell_type": "code",
   "execution_count": 58,
   "metadata": {},
   "outputs": [],
   "source": [
    "# Dict that will be useful later \n",
    "\n",
    "inv_vocabulary = {value:key for key, value in count_vectorizer.vocabulary_.items()}"
   ]
  },
  {
   "cell_type": "markdown",
   "metadata": {},
   "source": [
    "#### A Naive Bayes classifier for `newsgroup`"
   ]
  },
  {
   "cell_type": "markdown",
   "metadata": {},
   "source": [
    "Each feature vector $x$ is a list of indicators for whether a word appears in the article. $x_i$ is 1 if the $i$th word appears, and 0 otherwise. `inv_vocabulary` matches word indices $i$ to words.\n",
    "\n",
    "Each label $y$ is a value in $0, 1, \\ldots, 19$.\n",
    "\n",
    "The parts of a naive Bayes classifier for this problem can be summarised as:  \n",
    "\n",
    "\n",
    "- A probability distribution for the feature vector by class, $p(x|y = j)$ for each $j = 0, 1, \\ldots, 19$. These probability distributions are assumed to have independent components: we can factorize the joint probability as a product of marginal probabilities\n",
    "\\begin{equation}\n",
    "    p(x|y = j) = \\prod_{i=1}^d p(x_i|y = j)\n",
    "\\end{equation}\n",
    "These marginal probability distributions are Bernoulli distributions, each of which has a single parameter $\\theta_{ji} := p(x_i = 1|y = j)$. This parameter is the probability of observing word $i$ in an article of class $j$. \n",
    "\n",
    "- We will use the Laplace smoothed maximum likelihood estimate to compute these parameters. Laplace smoothing involves adding small counts to every feature for each class. Else, if a feature did not appear in the training set of a class, but then we observed it in our test data the log probability would be undefined.\n",
    "\n",
    "- A collection of class prior probabilities $p(y = j)$. These will be set by computing the class base rates in the training set.  \n",
    "\n",
    "\n",
    "- A function for computing the probability of class membership via Bayes' theorem:  \n",
    "\n",
    "\\begin{equation}\n",
    "    p(y = j|x) = \\frac{p(x|y = j)p(y = j)}{p(x)}\n",
    "\\end{equation}"
   ]
  },
  {
   "cell_type": "code",
   "execution_count": 59,
   "metadata": {},
   "outputs": [],
   "source": [
    "# Compute the parameter estimates (adjusted fraction of documents in class that contain word)\n",
    "\n",
    "n_classes = newsgroups_data['target'].max() + 1\n",
    "y = newsgroups_data['target']\n",
    "n_words = binary_bag_of_words.shape[1]\n",
    "\n",
    "alpha = 1e-6 # parameters for Laplace smoothing\n",
    "\n",
    "theta = np.zeros([n_classes, n_words]) # stores parameter values - prob. word given class\n",
    "for c_k in range(n_classes): # 0, 1, ..., 19\n",
    "    class_mask = (y == c_k)\n",
    "    N = class_mask.sum() # number of articles in class\n",
    "    theta[c_k, :] = (binary_bag_of_words[class_mask, :].sum(axis=0) + alpha)/(N + alpha*2)"
   ]
  },
  {
   "cell_type": "code",
   "execution_count": 60,
   "metadata": {},
   "outputs": [
    {
     "name": "stdout",
     "output_type": "stream",
     "text": [
      "Most probable word in class alt.atheism is \"people\".\n",
      "Most probable word in class comp.graphics is \"graphics\".\n",
      "Most probable word in class comp.os.ms-windows.misc is \"windows\".\n",
      "Most probable word in class comp.sys.ibm.pc.hardware is \"thanks\".\n",
      "Most probable word in class comp.sys.mac.hardware is \"mac\".\n",
      "Most probable word in class comp.windows.x is \"window\".\n",
      "Most probable word in class misc.forsale is \"sale\".\n",
      "Most probable word in class rec.autos is \"car\".\n",
      "Most probable word in class rec.motorcycles is \"dod\".\n",
      "Most probable word in class rec.sport.baseball is \"he\".\n",
      "Most probable word in class rec.sport.hockey is \"ca\".\n",
      "Most probable word in class sci.crypt is \"clipper\".\n",
      "Most probable word in class sci.electronics is \"use\".\n",
      "Most probable word in class sci.med is \"reply\".\n",
      "Most probable word in class sci.space is \"space\".\n",
      "Most probable word in class soc.religion.christian is \"god\".\n",
      "Most probable word in class talk.politics.guns is \"people\".\n",
      "Most probable word in class talk.politics.mideast is \"people\".\n",
      "Most probable word in class talk.politics.misc is \"people\".\n",
      "Most probable word in class talk.religion.misc is \"he\".\n"
     ]
    }
   ],
   "source": [
    "# Check whether the most probable word in each class is reasonable\n",
    "\n",
    "most_probable_word_ix = theta.argmax(axis=1) # most probable word for each class\n",
    "\n",
    "for j, ix in enumerate(most_probable_word_ix):\n",
    "    print('Most probable word in class {} is \"{}\".'.format(newsgroups_data['target_names'][j],\n",
    "                                                           inv_vocabulary[ix]))"
   ]
  },
  {
   "cell_type": "code",
   "execution_count": 71,
   "metadata": {},
   "outputs": [
    {
     "data": {
      "text/plain": [
       "<tfp.distributions.Independent 'IndependentBernoulli' batch_shape=[20] event_shape=[56365] dtype=int32>"
      ]
     },
     "execution_count": 71,
     "metadata": {},
     "output_type": "execute_result"
    }
   ],
   "source": [
    "# Define a distribution for each class\n",
    "batch_of_bernoullis = tfd.Bernoulli(probs=theta)\n",
    "p_x_given_y = tfd.Independent(batch_of_bernoullis,\n",
    "                             reinterpreted_batch_ndims=1)\n",
    "p_x_given_y"
   ]
  },
  {
   "cell_type": "code",
   "execution_count": 75,
   "metadata": {},
   "outputs": [
    {
     "data": {
      "text/plain": [
       "TensorShape([10, 20, 56365])"
      ]
     },
     "execution_count": 75,
     "metadata": {},
     "output_type": "execute_result"
    }
   ],
   "source": [
    "# Take a sample of words from each class\n",
    "\n",
    "n_samples = 10\n",
    "sample = p_x_given_y.sample(n_samples)\n",
    "sample.shape"
   ]
  },
  {
   "cell_type": "code",
   "execution_count": 79,
   "metadata": {},
   "outputs": [
    {
     "data": {
      "text/plain": [
       "'soc.religion.christian'"
      ]
     },
     "execution_count": 79,
     "metadata": {},
     "output_type": "execute_result"
    }
   ],
   "source": [
    "# Choose a class\n",
    "\n",
    "chosen_class = 15\n",
    "newsgroups_data['target_names'][chosen_class]"
   ]
  },
  {
   "cell_type": "code",
   "execution_count": 80,
   "metadata": {},
   "outputs": [
    {
     "data": {
      "text/plain": [
       "<tf.Tensor: shape=(10, 56365), dtype=int32, numpy=\n",
       "array([[1, 0, 0, ..., 0, 0, 0],\n",
       "       [0, 0, 0, ..., 0, 0, 0],\n",
       "       [0, 0, 0, ..., 0, 0, 0],\n",
       "       ...,\n",
       "       [0, 0, 0, ..., 0, 0, 0],\n",
       "       [0, 0, 0, ..., 0, 0, 0],\n",
       "       [0, 0, 0, ..., 0, 0, 0]], dtype=int32)>"
      ]
     },
     "execution_count": 80,
     "metadata": {},
     "output_type": "execute_result"
    }
   ],
   "source": [
    "# Indicators for words that appear in the sample\n",
    "\n",
    "class_sample = sample[:, chosen_class, :]\n",
    "class_sample"
   ]
  },
  {
   "cell_type": "code",
   "execution_count": 82,
   "metadata": {},
   "outputs": [
    {
     "data": {
      "text/plain": [
       "[array(['00', '10', '200', '93', 'admit', 'agnostic', 'although',\n",
       "        'amateur', 'apologize', 'aramaic', 'aristotle', 'atheists',\n",
       "        'athos', 'become', 'before', 'being', 'believers', 'beyond',\n",
       "        'bookstores', 'bore', 'both', 'brethren', 'buying', 'change',\n",
       "        'chimney', 'christ', 'christchurch', 'christians', 'christmas',\n",
       "        'claims', 'cleanse', 'clearly', 'clh', 'cmu', 'computer',\n",
       "        'conscientious', 'consider', 'constantinople', 'contemplation',\n",
       "        'could', 'cried', 'crisis', 'crucified', 'david', 'deny', 'der',\n",
       "        'deserts', 'direction', 'dissatisfied', 'distruction',\n",
       "        'divination', 'dleonar', 'editorial', 'essential', 'eternal',\n",
       "        'even', 'example', 'excerpted', 'exciting', 'extracted', 'faith',\n",
       "        'fallen', 'find', 'following', 'form', 'foundation', 'gentleman',\n",
       "        'god', 'good', 'grace', 'grant', 'he', 'his', 'imply', 'important',\n",
       "        'instance', 'intolerable', 'ken', 'knowledge', 'least', 'let',\n",
       "        'light', 'lincoln', 'majesty', 'maybe', 'mentions', 'most', 'much',\n",
       "        'narrative', 'national', 'nature', 'necessary', 'nothing', 'now',\n",
       "        'nt', 'okay', 'originally', 'people', 'person', 'pharisitical',\n",
       "        'places', 'po', 'point', 'powers', 'pretty', 'provide', 'reaching',\n",
       "        'read', 'reasonable', 'record', 'rejected', 'rejection',\n",
       "        'response', 'result', 'revelation', 'rtsg', 'rutgers', 'said',\n",
       "        'says', 'science', 'search', 'see', 'serious', 'soc', 'south',\n",
       "        'specifially', 'statement', 'stephen', 'struggle', 'take', 'than',\n",
       "        'them', 'then', 'thereof', 'these', 'thing', 'thou', 'though',\n",
       "        'unanimously', 'understand', 'universal', 'uses', 've', 'very',\n",
       "        'voice', 'walks', 'way', 'whence', 'where', 'wittgenstein',\n",
       "        'woman', 'wordprocessor', 'world', 'written'], dtype='<U80'),\n",
       " array(['15', '16', '22', '34', '40', '57', 'abram', 'abstinence',\n",
       "        'accept', 'according', 'ago', 'aisun3', 'also', 'amateur', 'among',\n",
       "        'answers', 'apr', 'arrogance', 'asked', 'back', 'because',\n",
       "        'become', 'been', 'believe', 'believer', 'believers', 'best',\n",
       "        'blind', 'book', 'byler', 'carried', 'case', 'cgsvax', 'christ',\n",
       "        'christian', 'clear', 'colorado', 'come', 'commendation',\n",
       "        'compuserve', 'could', 'crazy', 'deeds', 'did', 'didn',\n",
       "        'disclaimer', 'does', 'done', 'dreams', 'effective', 'elder',\n",
       "        'embrace', 'eternal', 'evidence', 'familiar', 'figures', 'game',\n",
       "        'god', 'going', 'good', 'grant', 'group', 'guild', 'health',\n",
       "        'hear', 'himself', 'humans', 'husband', 'imo', 'individuality',\n",
       "        'interpretation', 'isn', 'jeeze', 'jodfishe', 'kingdom', 'knew',\n",
       "        'lead', 'life', 'made', 'may', 'meaning', 'meeting', 'midway',\n",
       "        'moderator', 'much', 'muslims', 'obey', 'occur', 'okay', 'omaha',\n",
       "        'perfectly', 'places', 'point', 'poorer', 'pre', 'prefer',\n",
       "        'presense', 'probably', 'reason', 'rebel', 'rediscover',\n",
       "        'renaissance', 'reply', 'request', 'requested', 'resurrection',\n",
       "        'right', 'rudolf', 'sample', 'sense', 'should', 'show', 'silver',\n",
       "        'sin', 'somewhere', 'special', 'stores', 'stories', 'struggling',\n",
       "        'teaching', 'teens', 'terminology', 'them', 'therapist', 'those',\n",
       "        'today', 'treatment', 'trial', 'true', 'universe', 'username',\n",
       "        'uu4', 'want', 'were', 'whatever', 'witnesses', 'words', 'years'],\n",
       "       dtype='<U80'),\n",
       " array(['03', '11', '1993', '241', '497', '59', '8029', 'addict',\n",
       "        'appears', 'ascend', 'assume', 'athens', 'become', 'been', 'being',\n",
       "        'believes', 'blessed', 'bought', 'broke', 'cannot', 'cardenas',\n",
       "        'catholicism', 'causes', 'centuries', 'chanted', 'christianity',\n",
       "        'civilization', 'conversion', 'convert', 'counter', 'country',\n",
       "        'current', 'cwru', 'dayton', 'decreed', 'definitely', 'defy',\n",
       "        'descended', 'dispair', 'dollar', 'done', 'dream', 'either',\n",
       "        'element', 'emphasize', 'eng', 'especially', 'even', 'ex',\n",
       "        'exhaust', 'exist', 'existence', 'fact', 'first', 'forward',\n",
       "        'great', 'growing', 'had', 'he', 'heard', 'hence', 'here', 'him',\n",
       "        'his', 'human', 'indefinitely', 'institute', 'intends', 'issues',\n",
       "        'ix', 'join', 'judgement', 'judgment', 'justice', 'law', 'least',\n",
       "        'lest', 'life', 'likewise', 'listen', 'luke', 'made', 'mark',\n",
       "        'maybe', 'meaning', 'miles', 'misconfigured', 'mserv', 'nations',\n",
       "        'necessarily', 'newsgroup', 'nine', 'noisy', 'none', 'objectivism',\n",
       "        'objects', 'often', 'oh', 'opinions', 'orthodox', 'orwellian',\n",
       "        'paraphrase', 'perhaps', 'price', 'professed', 'quite', 'rated',\n",
       "        'read', 'rejected', 'rules', 'rutgers', 's0612596', 'satan',\n",
       "        'seeing', 'shalom', 'shouldn', 'sleep', 'sometimes', 'son',\n",
       "        'sorry', 'spank', 'speaking', 'stable', 'standard', 'step', 'such',\n",
       "        'talk', 'tertullian', 'their', 'then', 'theology', 'thing',\n",
       "        'things', 'toto', 'try', 'uga', 'uk', 'us', 'usa', 'wanting',\n",
       "        'whom', 'willful', 'willing', 'world', 'ximenez'], dtype='<U80'),\n",
       " array(['203', '28800', '374', '51', '542', 'according', 'added', 'afraid',\n",
       "        'ahmad', 'also', 'among', 'anglican', 'answers', 'basic',\n",
       "        'because', 'believe', 'between', 'bocherc', 'both', 'called',\n",
       "        'certainly', 'chdasic', 'christian', 'city', 'cold',\n",
       "        'commandments', 'confusions', 'decide', 'delab', 'depth',\n",
       "        'different', 'disagree', 'distinguishes', 'does', 'dont', 'duties',\n",
       "        'eng10205', 'entity', 'ergo', 'etc', 'existent', 'exists', 'faith',\n",
       "        'far', 'feel', 'fly', 'forgotten', 'frank', 'free', 'further',\n",
       "        'general', 'geneva', 'give', 'god', 'good', 'grace', 'greeting',\n",
       "        'had', 'hard', 'healed', 'hell', 'himself', 'his', 'illegal',\n",
       "        'immortality', 'instrument', 'internet', 'itself', 'join', 'king',\n",
       "        'lamont', 'language', 'lib', 'lot', 'make', 'many', 'marida',\n",
       "        'matters', 'messiahs', 'mhsu', 'miles', 'name', 'neither', 'new',\n",
       "        'nothing', 'nt', 'off', 'org', 'origins', 'our', 'overview',\n",
       "        'people', 'pihko', 'place', 'places', 'pointing', 'polluted',\n",
       "        'posted', 'preaching', 'present', 'priority', 'provide', 'purpose',\n",
       "        'quotable', 'raised', 'rates', 'rather', 'reason', 'reply',\n",
       "        'requirement', 'righteous', 'rijksuniversiteit', 'rise', 'roman',\n",
       "        'rutgers', 'second', 'seems', 'shell', 'showing', 'situation',\n",
       "        'smoldering', 'solar', 'space', 'start', 'study', 'take', 'talk',\n",
       "        'teachings', 'tel', 'tells', 'than', 'their', 'then', 'though',\n",
       "        'through', 'too', 'topic', 'tradition', 'tree', 'true', 'unomaha',\n",
       "        'wasn', 'whereby', 'whole', 'why', 'wonderfully', 'worship'],\n",
       "       dtype='<U80'),\n",
       " array(['05', '10th', '11', '15', '28376', '72', 'account', 'ago', 'also',\n",
       "        'ame', 'answer', 'answered', 'anyway', 'apart', 'arguing',\n",
       "        'arrived', 'atheism', 'athos', 'baptismal', 'basic', 'been',\n",
       "        'belief', 'benefits', 'bizarre', 'bothering', 'boyd', 'brown',\n",
       "        'call', 'capable', 'cardenas', 'case', 'choosing', 'christian',\n",
       "        'church', 'cobb', 'come', 'comes', 'commitment', 'could', 'daniel',\n",
       "        'david', 'desperate', 'devil', 'end', 'entirely', 'etc',\n",
       "        'everyone', 'exactly', 'example', 'explosive', 'faith',\n",
       "        'financially', 'find', 'follow', 'force', 'gave', 'gentile',\n",
       "        'give', 'god', 'had', 'hand', 'hatred', 'his', 'important',\n",
       "        'incidentally', 'insensitive', 'jesus', 'kings', 'later',\n",
       "        'lebanon', 'letters', 'listen', 'listens', 'little', 'long',\n",
       "        'ludwig', 'make', 'many', 'mark', 'materials', 'middle', 'might',\n",
       "        'most', 'mover', 'much', 'necessarily', 'new', 'none', 'nor',\n",
       "        'oakland', 'online', 'originally', 'paid', 'palm', 'patiently',\n",
       "        'paul', 'people', 'phone', 'port', 'post', 'poster', 'problem',\n",
       "        'props', 'proverbs', 'provided', 'punished', 'rather',\n",
       "        'relationship', 'religions', 'rijksuniversiteit', 'rpi', 'rutgers',\n",
       "        'satisfied', 'say', 'says', 'see', 'sees', 'sent', 'shanti',\n",
       "        'show', 'sinless', 'something', 'started', 'submission', 'such',\n",
       "        'supporters', 'task', 'taught', 'testament', 'theists', 'them',\n",
       "        'those', 'time', 'today', 'tons', 'too', 'toward', 'typically',\n",
       "        'unfair', 'us', 'vain', 'very', 'ways', 'well', 'were', 'why',\n",
       "        'wicked', 'wife', 'wrong', 'years'], dtype='<U80'),\n",
       " array(['14428', '1993', '1st', '20', '22', '28', '53', '800',\n",
       "        'accordance', 'according', 'across', 'always', 'apparently', 'apr',\n",
       "        'atmosphere', 'been', 'being', 'blatant', 'born', 'brave',\n",
       "        'carson', 'christian', 'christie', 'claims', 'cmu', 'common',\n",
       "        'consequences', 'continued', 'correct', 'count', 'countries',\n",
       "        'creatures', 'days', 'did', 'didn', 'dimensions', 'double',\n",
       "        'editor', 'enough', 'entry', 'especially', 'feast', 'fortunate',\n",
       "        'germany', 'gerry', 'grounds', 'hair', 'hardened', 'home',\n",
       "        'however', 'insane', 'instead', 'interested', 'internet',\n",
       "        'involved', 'its', 'jerusalem', 'job', 'jodfishe', 'joining',\n",
       "        'junior', 'late', 'line', 'loan', 'lois', 'lord', 'loss', 'love',\n",
       "        'man', 'matter', 'measure', 'mother', 'must', 'national',\n",
       "        'nestorianism', 'non', 'now', 'oneness', 'orst', 'otherwise',\n",
       "        'our', 'panix', 'part', 'parts', 'paul', 'phobias', 'poetry',\n",
       "        'post', 'profound', 'realize', 'reason', 'received', 'regards',\n",
       "        'remember', 'reproduce', 'return', 'sack', 'same', 'scientific',\n",
       "        'see', 'seeing', 'seems', 'show', 'simple', 'smiley', 'sort',\n",
       "        'sources', 'spiritual', 'still', 'stronger', 'student', 'summary',\n",
       "        'suppose', 'teachings', 'tear', 'tell', 'tentative', 'than',\n",
       "        'their', 'them', 'thing', 'think', 'those', 'tim', 'title', 'took',\n",
       "        'trinity', 'ukans', 'unfairly', 'unfortunately', 'univ', 'used',\n",
       "        'version', 'wants', 'women', 'words', 'work', 'written'],\n",
       "       dtype='<U80'),\n",
       " array(['100', '430', '62', 'access', 'address', 'admonitions', 'aids',\n",
       "        'ancient', 'andrew', 'another', 'answers', 'appearing',\n",
       "        'aristotle', 'asked', 'assume', 'athos', 'before', 'between',\n",
       "        'billion', 'blessed', 'bothers', 'came', 'cardinal', 'case',\n",
       "        'certain', 'christ', 'christians', 'churches', 'claim',\n",
       "        'conception', 'concerned', 'correct', 'creeds', 'crutch',\n",
       "        'curtain', 'death', 'debating', 'died', 'difficulty', 'divinity',\n",
       "        'does', 'doesn', 'dr', 'e_p', 'earliest', 'ecn', 'ended',\n",
       "        'eventually', 'example', 'faith', 'fast', 'fathers', 'find',\n",
       "        'finest', 'follow', 'follows', 'generally', 'gentiles', 'giving',\n",
       "        'god', 'govt', 'great', 'group', 'had', 'hand', 'hargreaves', 'he',\n",
       "        'him', 'horse', 'idea', 'impact', 'indeed', 'intact', 'into',\n",
       "        'invited', 'israeli', 'ken', 'knows', 'kosher', 'leads',\n",
       "        'legitimate', 'lessons', 'live', 'll', 'lose', 'mark', 'mcovingt',\n",
       "        'minimal', 'modes', 'must', 'none', 'off', 'outside', 'over',\n",
       "        'part', 'philosophy', 'possible', 'proper', 'questions', 'realize',\n",
       "        'reasoning', 'religions', 'resurection', 'resurrection',\n",
       "        'revelations', 'said', 'see', 'seem', 'seems', 'sensible', 'she',\n",
       "        'sick', 'simply', 'since', 'singer', 'singing', 'sinned',\n",
       "        'sisters', 'skepticism', 'specifially', 'splitting', 'stepped',\n",
       "        'still', 'sure', 'take', 'their', 'them', 'then', 'these', 'thing',\n",
       "        'things', 'those', 'told', 'top', 'tortured', 'try', 'uh',\n",
       "        'unfaithful', 'unique', 'us', 'various', 'vipunen', 'where',\n",
       "        'working', 'written', 'wrong', 'yes'], dtype='<U80'),\n",
       " array(['01', '03', '07', '1992', '22', '33', '957', '___', '_just_', 'ac',\n",
       "        'acceptable', 'according', 'acts', 'again', 'age', 'albnyvms',\n",
       "        'am', 'ancient', 'anyone', 'ask', 'asking', 'athos', 'avoid',\n",
       "        'babylonian', 'baker', 'becoming', 'best', 'bible', 'big', 'book',\n",
       "        'came', 'cannanites', 'cannot', 'christian', 'christians',\n",
       "        'conclusion', 'concordance', 'condescending', 'constitute', 'cor',\n",
       "        'core', 'covington', 'creative', 'definitely', 'despite',\n",
       "        'deutero', 'discuss', 'does', 'doesn', 'drugs', 'end', 'enemies',\n",
       "        'even', 'every', 'everything', 'evidence', 'existance',\n",
       "        'expanding', 'expected', 'extent', 'fair', 'faithful',\n",
       "        'falsifiable', 'feel', 'finally', 'find', 'first', 'force',\n",
       "        'forms', 'foundation', 'frank', 'gerard', 'gods', 'grossly', 'had',\n",
       "        'hand', 'haven', 'haya', 'hayes', 'he', 'head', 'himself', 'his',\n",
       "        'house', 'however', 'human', 'implications', 'important',\n",
       "        'impressive', 'individual', 'information', 'its', 'jacobites',\n",
       "        'jeesus', 'kilroy', 'kind', 'knew', 'life', 'local', 'looking',\n",
       "        'magnitude', 'mar', 'matters', 'may', 'mcovingt', 'michael',\n",
       "        'moderator', 'note', 'now', 'our', 'parts', 'pentacostal',\n",
       "        'people', 'persons', 'philippians', 'phony', 'point', 'portion',\n",
       "        'proof', 'quack', 'question', 'raised', 'real', 'reasoning',\n",
       "        'refrained', 'removed', 'returned', 'rutgers', 'say', 'scriptures',\n",
       "        'should', 'sodium', 'sounds', 'spirit', 'stand', 'such', 'sun',\n",
       "        'sure', 'switch', 'taht', 'technologies', 'tendencies',\n",
       "        'testament', 'th', 'thanks', 'them', 'thing', 'thought', 'too',\n",
       "        'tours', 'tradition', 'tragic', 'universe', 'until', 'us', 've',\n",
       "        'vigil', 'virtually', 'warm', 'way', 'whether', 'wish', 'words',\n",
       "        'wounds', 'ye', 'yea', 'yes', 'yours'], dtype='<U80'),\n",
       " array(['1993', '74', '9630', 'advice', 'affirmed', 'also', 'angelino',\n",
       "        'athos', 'attributions', 'beaten', 'been', 'beings', 'bible',\n",
       "        'biblical', 'books', 'boundary', 'california', 'case', 'cc',\n",
       "        'charity', 'choose', 'christianity', 'christians', 'clear',\n",
       "        'common', 'constitute', 'contrary', 'covering', 'cs', 'deemed',\n",
       "        'definition', 'denounced', 'description', 'difference',\n",
       "        'distinctions', 'does', 'dozen', 'edition', 'either', 'else',\n",
       "        'emotional', 'employees', 'enough', 'erctitan', 'events',\n",
       "        'existence', 'find', 'further', 'given', 'good', 'got',\n",
       "        'graciously', 'groping', 'group', 'guerillas', 'had', 'heads',\n",
       "        'hell', 'here', 'his', 'hold', 'however', 'iit', 'illness',\n",
       "        'inductive', 'injury', 'intelligence', 'interpreters', 'judea',\n",
       "        'kille', 'knew', 'labs', 'love', 'luke', 'make', 'mean', 'michael',\n",
       "        'might', 'modulo', 'myself', 'narrow', 'never', 'non', 'option',\n",
       "        'ourselves', 'patient', 'post', 'preaches', 'probably', 'problem',\n",
       "        'propounds', 'punished', 'pursuing', 'question', 'quotes',\n",
       "        'radically', 'radio', 'redemption', 'religion', 'remember',\n",
       "        'revelation', 'role', 'rules', 'saint', 'scientific', 'scriptura',\n",
       "        'si', 'something', 'son', 'speech', 'stan', 'standing', 'start',\n",
       "        'suggest', 'suspect', 'systematically', 'take', 'talk', 'than',\n",
       "        'their', 'then', 'three', 'too', 'tower', 'tradition', 'truly',\n",
       "        'unscintific', 've', 'vietnamese', 'way', 'weight', 'whatever',\n",
       "        'while', 'why', 'willful', 'word', 'wrote', 'years'], dtype='<U80'),\n",
       " array(['02', '18', '26', '27', '38', 'acts', 'adopt', 'ahead', 'anything',\n",
       "        'around', 'asking', 'atterlep', 'because', 'beliefs', 'believe',\n",
       "        'best', 'books', 'brother', 'brothers', 'brought', 'children',\n",
       "        'christ', 'christianity', 'christians', 'classically', 'clear',\n",
       "        'comes', 'commanded', 'comment', 'comments', 'condemn',\n",
       "        'convicted', 'convince', 'could', 'dalcs', 'danger', 'days',\n",
       "        'deep', 'dsegard', 'england', 'enough', 'even', 'every', 'exist',\n",
       "        'expect', 'fact', 'fail', 'fair', 'few', 'find', 'fix', 'follow',\n",
       "        'freenet', 'generation', 'geographic', 'glorify', 'goes', 'grace',\n",
       "        'gt7122b', 'guilty', 'had', 'happened', 'he', 'helgesen', 'her',\n",
       "        'his', 'holy', 'important', 'indiana', 'infinite', 'insulted',\n",
       "        'issue', 'kevin', 'killed', 'knowledge', 'literal', 'looking',\n",
       "        'make', 'matzoh', 'mcdowell', 'mean', 'messenger', 'middle',\n",
       "        'most', 'muslims', 'name', 'nero', 'nihilo', 'normally', 'note',\n",
       "        'now', 'oakland', 'opportunity', 'org', 'particular', 'paul',\n",
       "        'pearls', 'people', 'perfectly', 'pilot', 'piss', 'posed',\n",
       "        'preserving', 'price', 'qualifier', 'question', 'reagan', 'real',\n",
       "        'recent', 'recommended', 'reconciliation', 'replying', 'return',\n",
       "        'revelation', 'romans', 'same', 'say', 'saying', 'scholarship',\n",
       "        'search', 'section', 'serbs', 'source', 'spe', 'specifically',\n",
       "        'spelling', 'suggest', 'therefore', 'time', 'turns', 'ultimately',\n",
       "        'use', 'vela', 'wbt', 'where', 'why', 'witnessing', 'words',\n",
       "        'worthy', 'year'], dtype='<U80')]"
      ]
     },
     "execution_count": 82,
     "metadata": {},
     "output_type": "execute_result"
    }
   ],
   "source": [
    "# Perform inverse transform to test quality of fit\n",
    "count_vectorizer.inverse_transform(class_sample)\n"
   ]
  },
  {
   "cell_type": "markdown",
   "metadata": {},
   "source": [
    "***\n",
    "<a id='sampling_and_log_probs'></a>\n",
    "## Sampling and log probs"
   ]
  },
  {
   "cell_type": "code",
   "execution_count": 3,
   "metadata": {},
   "outputs": [
    {
     "data": {
      "text/plain": [
       "<tfp.distributions.MultivariateNormalDiag 'MultivariateNormalDiag' batch_shape=[3] event_shape=[2] dtype=float32>"
      ]
     },
     "execution_count": 3,
     "metadata": {},
     "output_type": "execute_result"
    }
   ],
   "source": [
    "# Make Multivariate Distribution\n",
    "\n",
    "normal_distributions = tfd.MultivariateNormalDiag(loc=[[0.5, 1], [0.1, 0], [0, 0.2]],\n",
    "                                 scale_diag=[[2, 3], [1, 3], [4, 4]])\n",
    "normal_distributions"
   ]
  },
  {
   "cell_type": "code",
   "execution_count": 4,
   "metadata": {},
   "outputs": [
    {
     "data": {
      "text/plain": [
       "<tf.Tensor: shape=(10, 3, 2), dtype=float32, numpy=\n",
       "array([[[-1.29616737e+00, -4.47774315e+00],\n",
       "        [-3.44418079e-01, -4.46488428e+00],\n",
       "        [-3.14218521e+00,  9.84786212e-01]],\n",
       "\n",
       "       [[ 8.52093101e-01, -3.57575178e+00],\n",
       "        [ 7.35294044e-01,  2.00436139e+00],\n",
       "        [ 5.69221067e+00,  3.82465750e-01]],\n",
       "\n",
       "       [[ 6.61458969e-02, -4.12547159e+00],\n",
       "        [ 6.17416143e-01, -3.59169543e-01],\n",
       "        [-4.24563503e+00, -1.96365023e+00]],\n",
       "\n",
       "       [[ 6.72138512e-01, -2.83457994e+00],\n",
       "        [-2.94986337e-01,  1.57673979e+00],\n",
       "        [-2.86754500e-02, -3.60131741e+00]],\n",
       "\n",
       "       [[-1.90956450e+00,  1.05124176e+00],\n",
       "        [ 1.39892086e-01, -1.96390367e+00],\n",
       "        [-2.55381370e+00,  4.82818222e+00]],\n",
       "\n",
       "       [[-1.11829555e+00,  4.94011402e+00],\n",
       "        [ 8.56987715e-01, -1.62330890e+00],\n",
       "        [-3.11373496e+00,  2.11702847e+00]],\n",
       "\n",
       "       [[ 1.52683961e+00, -2.44014740e-01],\n",
       "        [ 2.23119855e-01, -4.04842281e+00],\n",
       "        [ 4.24938726e+00, -7.66083670e+00]],\n",
       "\n",
       "       [[-7.25960732e-03,  1.11456356e+01],\n",
       "        [ 9.69699144e-01,  1.82512426e+00],\n",
       "        [-1.14164114e-01,  4.32853365e+00]],\n",
       "\n",
       "       [[-2.01890302e+00, -9.73314190e+00],\n",
       "        [ 9.93591428e-01,  4.50200748e+00],\n",
       "        [-1.63676226e+00, -2.71392584e+00]],\n",
       "\n",
       "       [[-1.51136088e+00, -5.76340866e+00],\n",
       "        [-1.14094090e+00,  1.22172728e-01],\n",
       "        [ 4.01144838e+00, -2.36971402e+00]]], dtype=float32)>"
      ]
     },
     "execution_count": 4,
     "metadata": {},
     "output_type": "execute_result"
    }
   ],
   "source": [
    "# Sample\n",
    "\n",
    "normal_distributions.sample(10)"
   ]
  },
  {
   "cell_type": "code",
   "execution_count": 5,
   "metadata": {},
   "outputs": [
    {
     "data": {
      "text/plain": [
       "<tfp.distributions.MultivariateNormalDiag 'MultivariateNormalDiag' batch_shape=[2, 2] event_shape=[3] dtype=float32>"
      ]
     },
     "execution_count": 5,
     "metadata": {},
     "output_type": "execute_result"
    }
   ],
   "source": [
    "# Multivariate Normal batched Distribution\n",
    "# We are broadcasting batch shapes of `loc` and `scal_diag` \n",
    "# against each other\n",
    "\n",
    "loc = [[[0.3, 1.5, 1.], [0.2, 0.4, 2.8]],\n",
    "        [[2., 2.3, 8], [1.4, 1, 1.3]]]\n",
    "scale_diag = [0.4, 1., 0.7]\n",
    "normal_distributions = tfd.MultivariateNormalDiag(loc=loc, scale_diag=scale_diag)\n",
    "normal_distributions"
   ]
  },
  {
   "cell_type": "code",
   "execution_count": 8,
   "metadata": {},
   "outputs": [],
   "source": [
    "# Use independent to move part of the batch shape\n",
    "ind_normal_distributions =tfd.Independent(normal_distributions,\n",
    "                                       reinterpreted_batch_ndims=1)\n"
   ]
  },
  {
   "cell_type": "code",
   "execution_count": 10,
   "metadata": {},
   "outputs": [
    {
     "data": {
      "text/plain": [
       "TensorShape([5, 2, 2, 3])"
      ]
     },
     "execution_count": 10,
     "metadata": {},
     "output_type": "execute_result"
    }
   ],
   "source": [
    "# Draw some samples\n",
    "samples = ind_normal_distributions.sample(5)\n",
    "samples.shape\n"
   ]
  },
  {
   "cell_type": "code",
   "execution_count": 12,
   "metadata": {},
   "outputs": [
    {
     "data": {
      "text/plain": [
       "<tf.Tensor: shape=(2,), dtype=float32, numpy=array([-12.21836 , -70.394684], dtype=float32)>"
      ]
     },
     "execution_count": 12,
     "metadata": {},
     "output_type": "execute_result"
    }
   ],
   "source": [
    "# `[B, E]` shaped input\n",
    "inp =  tf.random.uniform((2, 2, 3))\n",
    "ind_normal_distributions.log_prob(inp)"
   ]
  },
  {
   "cell_type": "code",
   "execution_count": 14,
   "metadata": {},
   "outputs": [
    {
     "data": {
      "text/plain": [
       "<tf.Tensor: shape=(2,), dtype=float32, numpy=array([-12.441522, -73.21494 ], dtype=float32)>"
      ]
     },
     "execution_count": 14,
     "metadata": {},
     "output_type": "execute_result"
    }
   ],
   "source": [
    "# `[E]` shaped input (broadcasting over batch size)\n",
    "\n",
    "inp =  tf.random.uniform((2, 3))\n",
    "ind_normal_distributions.log_prob(inp)"
   ]
  },
  {
   "cell_type": "code",
   "execution_count": 15,
   "metadata": {},
   "outputs": [
    {
     "data": {
      "text/plain": [
       "<tf.Tensor: shape=(9, 2), dtype=float32, numpy=\n",
       "array([[-10.139837, -71.34117 ],\n",
       "       [ -9.772417, -72.8571  ],\n",
       "       [-12.456754, -68.5202  ],\n",
       "       [ -9.006897, -71.11014 ],\n",
       "       [ -9.342809, -81.18157 ],\n",
       "       [ -9.947431, -68.748116],\n",
       "       [ -7.176448, -66.988945],\n",
       "       [-11.469181, -80.726776],\n",
       "       [-10.869421, -64.40857 ]], dtype=float32)>"
      ]
     },
     "execution_count": 15,
     "metadata": {},
     "output_type": "execute_result"
    }
   ],
   "source": [
    "#`[S, B, E]` shaped input (broadcasting over samples)\n",
    "\n",
    "inp =  tf.random.uniform((9, 2, 2, 3))\n",
    "ind_normal_distributions.log_prob(inp)"
   ]
  },
  {
   "cell_type": "code",
   "execution_count": 16,
   "metadata": {},
   "outputs": [
    {
     "data": {
      "text/plain": [
       "<tf.Tensor: shape=(5, 2), dtype=float32, numpy=\n",
       "array([[ -9.286251, -63.888245],\n",
       "       [-10.366593, -83.21844 ],\n",
       "       [-10.17972 , -78.43152 ],\n",
       "       [ -9.265926, -67.43485 ],\n",
       "       [ -9.444034, -73.98662 ]], dtype=float32)>"
      ]
     },
     "execution_count": 16,
     "metadata": {},
     "output_type": "execute_result"
    }
   ],
   "source": [
    "# `[S, b, e]` shaped input, where [b, e] is broadcastable over [B, E]\n",
    "\n",
    "inp =  tf.random.uniform((5, 1, 2, 1))\n",
    "ind_normal_distributions.log_prob(inp)"
   ]
  },
  {
   "cell_type": "markdown",
   "metadata": {},
   "source": [
    "#### Naive Bayes example\n",
    "\n",
    "Lets now use what we have learned and continue the Naive Bayes classifier we were building last tutorial."
   ]
  },
  {
   "cell_type": "code",
   "execution_count": 17,
   "metadata": {},
   "outputs": [],
   "source": [
    "from sklearn.datasets import fetch_20newsgroups\n",
    "from sklearn.feature_extraction.text import CountVectorizer\n",
    "from sklearn.naive_bayes import BernoulliNB\n",
    "from sklearn.metrics import f1_score"
   ]
  },
  {
   "cell_type": "code",
   "execution_count": 18,
   "metadata": {},
   "outputs": [],
   "source": [
    "# Making a function get_data which:\n",
    "#   1) Fetches the 20 newsgroup dataset\n",
    "#   2) Performs a word count on the articles and binarizes the result\n",
    "#   3) Returns the data as a numpy matrix with the labels\n",
    "\n",
    "def get_data(categories):\n",
    "    \n",
    "    newsgroups_train_data = fetch_20newsgroups(data_home='20_Newsgroup_Data/',\n",
    "                                               subset='train', categories=categories)\n",
    "    newsgroups_test_data = fetch_20newsgroups(data_home='20_Newsgroup_Data/',\n",
    "                                              subset='test', categories=categories)\n",
    "\n",
    "    n_documents = len(newsgroups_train_data['data'])\n",
    "    count_vectorizer = CountVectorizer(input='content', binary=True,max_df=0.25, min_df=1.01/n_documents)\n",
    "    \n",
    "    train_binary_bag_of_words = count_vectorizer.fit_transform(newsgroups_train_data['data'])\n",
    "    test_binary_bag_of_words = count_vectorizer.transform(newsgroups_test_data['data']) \n",
    "\n",
    "    return (train_binary_bag_of_words.todense(), newsgroups_train_data['target']),  (test_binary_bag_of_words.todense(), newsgroups_test_data['target'])"
   ]
  },
  {
   "cell_type": "code",
   "execution_count": 19,
   "metadata": {},
   "outputs": [],
   "source": [
    "# Defining a function to conduct Laplace smoothing. This adds a base level of probability for a given feature\n",
    "# to occur in every class.\n",
    "\n",
    "def laplace_smoothing(labels, binary_data, n_classes):\n",
    "    # Compute the parameter estimates (adjusted fraction of documents in class that contain word)\n",
    "    n_words = binary_data.shape[1]\n",
    "    alpha = 1 # parameters for Laplace smoothing\n",
    "    theta = np.zeros([n_classes, n_words]) # stores parameter values - prob. word given class\n",
    "    for c_k in range(n_classes): # 0, 1, ..., 19\n",
    "        class_mask = (labels == c_k)\n",
    "        N = class_mask.sum() # number of articles in class\n",
    "        theta[c_k, :] = (binary_data[class_mask, :].sum(axis=0) + alpha)/(N + alpha*2)\n",
    "\n",
    "    return theta"
   ]
  },
  {
   "cell_type": "code",
   "execution_count": 20,
   "metadata": {},
   "outputs": [],
   "source": [
    "# Getting a subset of the 20 newsgroup dataset\n",
    "\n",
    "categories = ['alt.atheism', 'talk.religion.misc', 'comp.graphics', 'sci.space']\n",
    "\n",
    "(train_data, train_labels), (test_data, test_labels) = get_data(categories=categories)\n",
    "smoothed_counts = laplace_smoothing(labels=train_labels, binary_data=train_data, n_classes=len(categories))"
   ]
  },
  {
   "cell_type": "markdown",
   "metadata": {},
   "source": [
    "To now make our NB classifier we need to build three functions:\n",
    "* Compute the class priors\n",
    "* Build our class conditional distributions\n",
    "* Put it all together and classify our data"
   ]
  },
  {
   "cell_type": "code",
   "execution_count": 21,
   "metadata": {},
   "outputs": [],
   "source": [
    "# Function which computes the prior probability of every class based on frequency of occurence in \n",
    "# the dataset\n",
    "\n",
    "def class_priors(n_classes, labels):\n",
    "    counts = np.zeros(n_classes)\n",
    "    for c_k in range(n_classes):\n",
    "        counts[c_k] = np.sum(np.where(labels==c_k, 1, 0))\n",
    "    priors = counts / np.sum(counts)\n",
    "    print('The class priors are {}'.format(priors))\n",
    "    return priors"
   ]
  },
  {
   "cell_type": "code",
   "execution_count": 22,
   "metadata": {},
   "outputs": [
    {
     "name": "stdout",
     "output_type": "stream",
     "text": [
      "The class priors are [0.2359882  0.28711898 0.29154376 0.18534907]\n"
     ]
    }
   ],
   "source": [
    "# Run the function \n",
    "\n",
    "priors = class_priors(n_classes=len(categories), labels=train_labels)"
   ]
  },
  {
   "cell_type": "code",
   "execution_count": 25,
   "metadata": {},
   "outputs": [],
   "source": [
    "# Now we will do a function that given the feature occurence counts returns a Bernoulli distribution of \n",
    "# batch_shape=number of classes and event_shape=number of features.\n",
    "def make_distribution(probs):\n",
    "    batch_of_bernoullis = tfd.Bernoulli(probs=probs)\n",
    "    dist = tfd.Independent(batch_of_bernoullis,\n",
    "                          reinterpreted_batch_ndims=1)\n",
    "    return dist\n",
    "tf_dist = make_distribution(smoothed_counts)\n",
    "    "
   ]
  },
  {
   "cell_type": "code",
   "execution_count": 34,
   "metadata": {},
   "outputs": [],
   "source": [
    "# The final function predict_sample which given the distribution, a test sample, and the class priors:\n",
    "#   1) Computes the class conditional probabilities given the sample\n",
    "#   2) Forms the joint likelihood\n",
    "#   3) Normalises the joint likelihood and returns the log prob\n",
    "\n",
    "def predict_sample(dist, sample, priors):\n",
    "    cond_probs = dist.log_prob(sample)\n",
    "    joint_likelihood = tf.add(np.log(priors), cond_probs)\n",
    "    norm_factor = tf.math.reduce_logsumexp(joint_likelihood, axis=-1, keepdims = True)\n",
    "    log_prob = joint_likelihood - norm_factor\n",
    "    \n",
    "    return log_prob"
   ]
  },
  {
   "cell_type": "markdown",
   "metadata": {},
   "source": [
    "#### Computing log_probs"
   ]
  },
  {
   "cell_type": "code",
   "execution_count": 35,
   "metadata": {},
   "outputs": [
    {
     "data": {
      "text/plain": [
       "<tf.Tensor: shape=(4,), dtype=float32, numpy=\n",
       "array([-6.1736160e+01, -1.5258789e-05, -1.1619934e+01, -6.3327240e+01],\n",
       "      dtype=float32)>"
      ]
     },
     "execution_count": 35,
     "metadata": {},
     "output_type": "execute_result"
    }
   ],
   "source": [
    "# Predicting one example from our test data\n",
    "\n",
    "log_prob = predict_sample(tf_dist, test_data[0], priors)\n",
    "log_prob"
   ]
  },
  {
   "cell_type": "code",
   "execution_count": 36,
   "metadata": {},
   "outputs": [
    {
     "name": "stdout",
     "output_type": "stream",
     "text": [
      "f1  0.7848499112849504\n"
     ]
    }
   ],
   "source": [
    "# Loop over our test data and classify.\n",
    "\n",
    "probabilities = []\n",
    "for sample, label in zip(test_data, test_labels):\n",
    "    probabilities.append(tf.exp(predict_sample(tf_dist, sample, priors)))\n",
    "\n",
    "probabilities = np.asarray(probabilities)\n",
    "predicted_classes = np.argmax(probabilities, axis =-1)\n",
    "print('f1 ', f1_score(test_labels, predicted_classes, average='macro'))"
   ]
  },
  {
   "cell_type": "code",
   "execution_count": 37,
   "metadata": {},
   "outputs": [
    {
     "name": "stdout",
     "output_type": "stream",
     "text": [
      "f1 from sklean  0.7848499112849504\n"
     ]
    }
   ],
   "source": [
    "# Make a Bernoulli Naive Bayes classifier using sklearn with the same level of alpha smoothing. \n",
    "\n",
    "clf = BernoulliNB(alpha=1)\n",
    "clf.fit(train_data, train_labels)\n",
    "pred = clf.predict(test_data)\n",
    "print('f1 from sklean ', f1_score(test_labels, pred, average='macro'))"
   ]
  },
  {
   "cell_type": "markdown",
   "metadata": {},
   "source": [
    "***\n",
    "<a id='trainable_distributions'></a>\n",
    "## Trainable Distributions"
   ]
  },
  {
   "cell_type": "code",
   "execution_count": 38,
   "metadata": {},
   "outputs": [],
   "source": [
    "from sklearn.datasets import fetch_20newsgroups\n",
    "from sklearn.feature_extraction.text import CountVectorizer\n",
    "from sklearn.naive_bayes import BernoulliNB\n",
    "from sklearn.metrics import f1_score"
   ]
  },
  {
   "cell_type": "code",
   "execution_count": 39,
   "metadata": {},
   "outputs": [],
   "source": [
    "# Define an exponential distribution\n",
    "exponential = tfd.Exponential(rate=0.3, name='exp')\n"
   ]
  },
  {
   "cell_type": "code",
   "execution_count": 40,
   "metadata": {},
   "outputs": [
    {
     "data": {
      "image/png": "[encoded data removed]",
      "text/plain": [
       "<Figure size 432x288 with 1 Axes>"
      ]
     },
     "metadata": {
      "needs_background": "light"
     },
     "output_type": "display_data"
    }
   ],
   "source": [
    "# Plot\n",
    "\n",
    "plt.hist(exponential.sample(5000), bins=100, density=True)\n",
    "plt.show()"
   ]
  },
  {
   "cell_type": "code",
   "execution_count": 50,
   "metadata": {},
   "outputs": [
    {
     "data": {
      "text/plain": [
       "(<tf.Variable 'rate:0' shape=() dtype=float32, numpy=1.0>,)"
      ]
     },
     "execution_count": 50,
     "metadata": {},
     "output_type": "execute_result"
    }
   ],
   "source": [
    "# Define an exponential distribution with a trainable rate parameter\n",
    "\n",
    "exp_train =tfd.Exponential(rate=tf.Variable(1., name='rate'), name='exp_train')\n",
    "exp_train.trainable_variables"
   ]
  },
  {
   "cell_type": "code",
   "execution_count": 54,
   "metadata": {},
   "outputs": [],
   "source": [
    "# Define the negative log likelihood\n",
    "def nll(x_train, distribution):\n",
    "    return -tf.reduce_mean(distribution.log_prob(x_train))"
   ]
  },
  {
   "cell_type": "code",
   "execution_count": 61,
   "metadata": {},
   "outputs": [],
   "source": [
    "# Define a function to compute the loss and gradients\n",
    "\n",
    "@tf.function \n",
    "def get_loss_and_grads(x_train, distribution):\n",
    "    with tf.GradientTape() as tape:\n",
    "        tape.watch(distribution.trainable_variables)\n",
    "        loss = nll(x_train, distribution)\n",
    "        grads =tape.gradient(loss, distribution.trainable_variables)\n",
    "        return loss, grads"
   ]
  },
  {
   "cell_type": "code",
   "execution_count": 56,
   "metadata": {},
   "outputs": [],
   "source": [
    "# Optimize\n",
    "\n",
    "def exponential_dist_optimisation(data, distribution):\n",
    "\n",
    "    # Keep results for plotting\n",
    "    train_loss_results = []\n",
    "    train_rate_results = []\n",
    "    \n",
    "    optimizer = tf.keras.optimizers.SGD(learning_rate=0.05)\n",
    "\n",
    "    num_steps = 10\n",
    "\n",
    "    for i in range(num_steps):\n",
    "        loss, grads = get_loss_and_grads(data, distribution)\n",
    "        optimizer.apply_gradients(zip(grads, distribution.trainable_variables ))\n",
    "\n",
    "        rate_value = distribution.rate.value()\n",
    "        train_loss_results.append(loss)\n",
    "        train_rate_results.append(rate_value)\n",
    "        \n",
    "        print(\"Step {:03d}: Loss: {:.3f}: Rate: {:.3f}\".format(i, loss, rate_value) )\n",
    "        \n",
    "    return train_loss_results, train_rate_results"
   ]
  },
  {
   "cell_type": "code",
   "execution_count": 62,
   "metadata": {},
   "outputs": [
    {
     "name": "stdout",
     "output_type": "stream",
     "text": [
      "Step 000: Loss: 3.322: Rate: 0.884\n",
      "Step 001: Loss: 3.060: Rate: 0.774\n",
      "Step 002: Loss: 2.828: Rate: 0.673\n",
      "Step 003: Loss: 2.631: Rate: 0.581\n",
      "Step 004: Loss: 2.473: Rate: 0.501\n",
      "Step 005: Loss: 2.355: Rate: 0.435\n",
      "Step 006: Loss: 2.277: Rate: 0.384\n",
      "Step 007: Loss: 2.232: Rate: 0.348\n",
      "Step 008: Loss: 2.211: Rate: 0.326\n",
      "Step 009: Loss: 2.204: Rate: 0.313\n"
     ]
    }
   ],
   "source": [
    "# Get some data and train\n",
    "sampled_data = exponential.sample(5000)\n",
    "train_loss_results, train_rate_results = exponential_dist_optimisation(data=sampled_data, distribution = exp_train)\n"
   ]
  },
  {
   "cell_type": "code",
   "execution_count": 63,
   "metadata": {},
   "outputs": [
    {
     "name": "stdout",
     "output_type": "stream",
     "text": [
      "Exact rate:  0.3\n",
      "Pred rate:   0.31304106\n"
     ]
    }
   ],
   "source": [
    "# Predicted value for the rate parameter\n",
    "\n",
    "pred_value = exp_train.rate.numpy()\n",
    "exact_value = exponential.rate.numpy()\n",
    "\n",
    "print(\"Exact rate: \", exact_value)\n",
    "print(\"Pred rate:  \", pred_value)"
   ]
  },
  {
   "cell_type": "code",
   "execution_count": 64,
   "metadata": {},
   "outputs": [
    {
     "data": {
      "image/png": "[encoded data removed]",
      "text/plain": [
       "<Figure size 864x576 with 2 Axes>"
      ]
     },
     "metadata": {
      "needs_background": "light"
     },
     "output_type": "display_data"
    }
   ],
   "source": [
    "# Plot to see the convergence of the estimated and true parameters\n",
    "\n",
    "tensor_exact_value = tf.constant(exact_value, shape=[len(train_rate_results)])\n",
    "\n",
    "fig, axes = plt.subplots(2, sharex=True, figsize=(12, 8))\n",
    "fig.suptitle('Convergence')\n",
    "\n",
    "axes[0].set_ylabel(\"Loss\", fontsize=14)\n",
    "axes[0].plot(train_loss_results)\n",
    "\n",
    "axes[1].set_ylabel(\"Rate\", fontsize=14)\n",
    "axes[1].set_xlabel(\"Epoch\", fontsize=14)\n",
    "axes[1].plot(train_rate_results, label='trainable rate variable')\n",
    "axes[1].plot(tensor_exact_value, label='exact rate')\n",
    "axes[1].legend()\n",
    "plt.show()"
   ]
  },
  {
   "cell_type": "code",
   "execution_count": 65,
   "metadata": {},
   "outputs": [],
   "source": [
    "# Making a function get_data which:\n",
    "#   1) Fetches the 20 newsgroup dataset\n",
    "#   2) Performs a word count on the articles and binarizes the result\n",
    "#   3) Returns the data as a numpy matrix with the labels\n",
    "\n",
    "def get_data(categories):\n",
    "\n",
    "    newsgroups_train_data = fetch_20newsgroups(data_home='20_Newsgroup_Data/',\n",
    "                                               subset='train', categories=categories)\n",
    "    newsgroups_test_data = fetch_20newsgroups(data_home='20_Newsgroup_Data/',\n",
    "                                              subset='test', categories=categories)\n",
    "\n",
    "    n_documents = len(newsgroups_train_data['data'])\n",
    "    count_vectorizer = CountVectorizer(input='content', binary=True,max_df=0.25, min_df=1.01/n_documents) \n",
    "    train_binary_bag_of_words = count_vectorizer.fit_transform(newsgroups_train_data['data']) \n",
    "    test_binary_bag_of_words = count_vectorizer.transform(newsgroups_test_data['data']) \n",
    "\n",
    "    return (train_binary_bag_of_words.todense(), newsgroups_train_data['target']),  (test_binary_bag_of_words.todense(), newsgroups_test_data['target'])\n"
   ]
  },
  {
   "cell_type": "code",
   "execution_count": 66,
   "metadata": {},
   "outputs": [],
   "source": [
    "# Defining a function to conduct laplace smoothing. This adds a base level of probability for a given feature\n",
    "# to occur in every class.\n",
    "\n",
    "def laplace_smoothing(labels, binary_data, n_classes):\n",
    "    # Compute the parameter estimates (adjusted fraction of documents in class that contain word)\n",
    "    n_words = binary_data.shape[1]\n",
    "    alpha = 1 # parameters for Laplace smoothing\n",
    "    theta = np.zeros([n_classes, n_words]) # stores parameter values - prob. word given class\n",
    "    for c_k in range(n_classes): # 0, 1, ..., 19\n",
    "        class_mask = (labels == c_k)\n",
    "        N = class_mask.sum() # number of articles in class\n",
    "        theta[c_k, :] = (binary_data[class_mask, :].sum(axis=0) + alpha)/(N + alpha*2)\n",
    "\n",
    "    return theta"
   ]
  },
  {
   "cell_type": "code",
   "execution_count": 67,
   "metadata": {},
   "outputs": [],
   "source": [
    "# Now we will do a function that given the feature occurence counts returns a Bernoulli distribution of \n",
    "# batch_shape=number of classes and event_shape=number of features.\n",
    "\n",
    "def make_distributions(probs):\n",
    "    batch_of_bernoullis = tfd.Bernoulli(probs=probs) # shape (n_classes, n_words)\n",
    "    dist = tfd.Independent(batch_of_bernoullis, reinterpreted_batch_ndims=1)\n",
    "    return dist"
   ]
  },
  {
   "cell_type": "code",
   "execution_count": 68,
   "metadata": {},
   "outputs": [],
   "source": [
    "# Function which computes the prior probability of every class based on frequency of occurence in \n",
    "# the dataset\n",
    "\n",
    "def class_priors(n_classes, labels):\n",
    "    counts = np.zeros(n_classes)\n",
    "    for c_k in range(n_classes):\n",
    "        counts[c_k] = np.sum(np.where(labels==c_k, 1, 0))\n",
    "    priors = counts / np.sum(counts)\n",
    "    print('The class priors are {}'.format(priors))\n",
    "    return priors"
   ]
  },
  {
   "cell_type": "code",
   "execution_count": 69,
   "metadata": {},
   "outputs": [],
   "source": [
    "# The final function predict_sample which given the distribution, a test sample, and the class priors:\n",
    "#   1) Computes the class conditional probabilities given the sample\n",
    "#   2) Forms the joint likelihood\n",
    "#   3) Normalises the joint likelihood and returns the log prob\n",
    "\n",
    "def predict_sample(dist, sample, priors):\n",
    "    cond_probs = dist.log_prob(sample)\n",
    "    joint_likelihood = tf.add(np.log(priors), cond_probs)\n",
    "    norm_factor = tf.math.reduce_logsumexp(joint_likelihood, axis=-1, keepdims=True)\n",
    "    log_prob = joint_likelihood - norm_factor\n",
    "\n",
    "    return log_prob"
   ]
  },
  {
   "cell_type": "code",
   "execution_count": 84,
   "metadata": {},
   "outputs": [],
   "source": [
    "# Now we learn the distribution using gradient tape\n",
    "\n",
    "def make_distribution_withGT(data, labels, nb_classes):\n",
    "\n",
    "    class_data = []\n",
    "    train_vars = []\n",
    "    distributions = []\n",
    "    for c in range(nb_classes):\n",
    "        train_vars.append(tf.Variable(initial_value=np.random.uniform(low=0.01, high =0.1, size=data.shape[-1])))\n",
    "        distributions.append(tfd.Bernoulli(probs=train_vars[c]))\n",
    "        class_mask = (labels == c)\n",
    "        class_data.append(data[class_mask, :])\n",
    "\n",
    "    for c_num in range(0,nb_classes):\n",
    "        optimizer = tf.keras.optimizers.Adam()\n",
    "        print('\\n%-------------------%')\n",
    "        print('Class ', c_num)\n",
    "        print('%-------------------%')\n",
    "\n",
    "        for i in range(0,100):\n",
    "            loss, grads = get_loss_and_grads(class_data[c_num], distributions[c_num])\n",
    "            if(i%10==0):\n",
    "                print('iter: {} loss: {}'.format(i, loss))\n",
    "            optimizer.apply_gradients(zip(grads, distributions[c_num].trainable_variables))    \n",
    "            eta = 1e-3\n",
    "            clipped_probs = tf.clip_by_value(distributions[c_num].trainable_variables,\n",
    "                                            clip_value_min=eta, clip_value_max=1)\n",
    "            train_vars[c_num] = tf.squeeze(clipped_probs)\n",
    "            \n",
    "            \n",
    "            \n",
    "    dist = tfd.Bernoulli(probs=train_vars)\n",
    "    dist = tfd.Independent(dist,reinterpreted_batch_ndims=1)\n",
    "\n",
    "    print(dist)\n",
    "\n",
    "    return dist\n"
   ]
  },
  {
   "cell_type": "code",
   "execution_count": 81,
   "metadata": {},
   "outputs": [
    {
     "name": "stdout",
     "output_type": "stream",
     "text": [
      "The class priors are [0.2359882  0.28711898 0.29154376 0.18534907]\n"
     ]
    }
   ],
   "source": [
    "# Make the same Naive Bayes classifier we did last tutorial\n",
    "\n",
    "categories = ['alt.atheism', 'talk.religion.misc', 'comp.graphics', 'sci.space']\n",
    "\n",
    "(train_data, train_labels), (test_data, test_labels) = get_data(categories)\n",
    "\n",
    "smoothed_counts = laplace_smoothing(labels=train_labels, binary_data=train_data, n_classes=len(categories))\n",
    "\n",
    "priors = class_priors(n_classes=len(categories), labels=train_labels)\n",
    "tf_dist = make_distributions(smoothed_counts)"
   ]
  },
  {
   "cell_type": "code",
   "execution_count": 85,
   "metadata": {},
   "outputs": [
    {
     "name": "stdout",
     "output_type": "stream",
     "text": [
      "\n",
      "%-------------------%\n",
      "Class  0\n",
      "%-------------------%\n",
      "iter: 0 loss: 0.07861982880258789\n",
      "iter: 10 loss: 0.06920334597983602\n",
      "iter: 20 loss: 0.06044386953076058\n",
      "iter: 30 loss: 0.0523375648630849\n",
      "iter: 40 loss: 0.044838303597334865\n",
      "iter: 50 loss: 0.03789582106906848\n",
      "iter: 60 loss: 0.03148330521943415\n",
      "iter: 70 loss: 0.025564405626934957\n",
      "iter: 80 loss: 0.02008555432868777\n",
      "iter: 90 loss: 0.014990952468650714\n",
      "\n",
      "%-------------------%\n",
      "Class  1\n",
      "%-------------------%\n",
      "iter: 0 loss: 0.07181861660902554\n",
      "iter: 10 loss: 0.06247238827997856\n",
      "iter: 20 loss: 0.053664795058367215\n",
      "iter: 30 loss: 0.04547271861110475\n",
      "iter: 40 loss: 0.037870516757589436\n",
      "iter: 50 loss: 0.030826234934579883\n",
      "iter: 60 loss: 0.0243255754790682\n",
      "iter: 70 loss: 0.018343744440405787\n",
      "iter: 80 loss: 0.01283211176070942\n",
      "iter: 90 loss: 0.007730934182280246\n",
      "\n",
      "%-------------------%\n",
      "Class  2\n",
      "%-------------------%\n",
      "iter: 0 loss: 0.07867494099936354\n",
      "iter: 10 loss: 0.06958599706124083\n",
      "iter: 20 loss: 0.061211096040763566\n",
      "iter: 30 loss: 0.05357518049347908\n",
      "iter: 40 loss: 0.04663114206237949\n",
      "iter: 50 loss: 0.04033029389404165\n",
      "iter: 60 loss: 0.034641056481791554\n",
      "iter: 70 loss: 0.0295293594557101\n",
      "iter: 80 loss: 0.024931400591875034\n",
      "iter: 90 loss: 0.020785610243277134\n",
      "\n",
      "%-------------------%\n",
      "Class  3\n",
      "%-------------------%\n",
      "iter: 0 loss: 0.07989330203369766\n",
      "iter: 10 loss: 0.07061249803416625\n",
      "iter: 20 loss: 0.06197704094510906\n",
      "iter: 30 loss: 0.05398716589912531\n",
      "iter: 40 loss: 0.04658757658555658\n",
      "iter: 50 loss: 0.039728437864815676\n",
      "iter: 60 loss: 0.0333714129857045\n",
      "iter: 70 loss: 0.0274653116865106\n",
      "iter: 80 loss: 0.021982885050382383\n",
      "iter: 90 loss: 0.01686870489187482\n",
      "tfp.distributions.Independent(\"IndependentBernoulli\", batch_shape=[4], event_shape=[17495], dtype=int32)\n"
     ]
    }
   ],
   "source": [
    "# Now train the distributions with gradient tape\n",
    "\n",
    "GT_dist = make_distribution_withGT(data=train_data, labels=train_labels, nb_classes=4)"
   ]
  },
  {
   "cell_type": "code",
   "execution_count": 86,
   "metadata": {},
   "outputs": [
    {
     "name": "stdout",
     "output_type": "stream",
     "text": [
      "f1  0.8297455777219943\n",
      "f1  0.7848499112849504\n"
     ]
    }
   ],
   "source": [
    "# Compare the two results\n",
    "\n",
    "for dist in [GT_dist,tf_dist]:\n",
    "    probabilities = []\n",
    "    for sample, label in zip(test_data, test_labels):\n",
    "        probabilities.append(predict_sample(dist, sample, priors))\n",
    "\n",
    "    probabilities = np.asarray(probabilities)\n",
    "    predicted_classes = np.argmax(probabilities, axis =-1)\n",
    "    print('f1 ', f1_score(test_labels, predicted_classes, average='macro'))"
   ]
  }
 ],
 "metadata": {
  "kernelspec": {
   "display_name": "Python 3",
   "language": "python",
   "name": "python3"
  },
  "language_info": {
   "codemirror_mode": {
    "name": "ipython",
    "version": 3
   },
   "file_extension": ".py",
   "mimetype": "text/x-python",
   "name": "python",
   "nbconvert_exporter": "python",
   "pygments_lexer": "ipython3",
   "version": "3.7.1"
  }
 },
 "nbformat": 4,
 "nbformat_minor": 4
}
